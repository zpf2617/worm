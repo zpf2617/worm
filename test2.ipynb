{
 "cells": [
  {
   "cell_type": "code",
   "execution_count": 34,
   "metadata": {},
   "outputs": [
    {
     "name": "stdout",
     "output_type": "stream",
     "text": [
      "Hello ：:  23asdfasdf2\n",
      "['__builtins__', '__cached__', '__doc__', '__file__', '__loader__', '__name__', '__package__', '__spec__', 'pri']\n"
     ]
    }
   ],
   "source": [
    "import ze1\n",
    "import sys\n",
    "ze1.pri(\"23asdfasdf2\")\n",
    "#检测模块所在文件夹是否在环境变量里\n",
    "#print(sys.path)\n",
    "print(dir(ze1))\n",
    "ze1.__name__\n",
    "\n",
    "a=10\n",
    "b=10\n",
    "id(a)\n",
    "id(b)\n",
    "a=257\n",
    "a=257\n",
    "id(a)\n",
    "id(b)"
   ]
  }
 ],
 "metadata": {
  "interpreter": {
   "hash": "abef8255030384acf001b99b664dafb1eef7d2851524120c2f5fed0d9d62a94e"
  },
  "kernelspec": {
   "display_name": "Python 3.9.7 64-bit (windows store)",
   "language": "python",
   "name": "python3"
  },
  "language_info": {
   "codemirror_mode": {
    "name": "ipython",
    "version": 3
   },
   "file_extension": ".py",
   "mimetype": "text/x-python",
   "name": "python",
   "nbconvert_exporter": "python",
   "pygments_lexer": "ipython3",
   "version": "3.9.8"
  },
  "orig_nbformat": 4
 },
 "nbformat": 4,
 "nbformat_minor": 2
}
