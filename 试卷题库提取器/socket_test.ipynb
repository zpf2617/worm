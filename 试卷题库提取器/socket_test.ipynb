{
 "cells": [
  {
   "cell_type": "code",
   "execution_count": 2,
   "metadata": {},
   "outputs": [
    {
     "name": "stdout",
     "output_type": "stream",
     "text": [
      "连接地址: ('192.168.0.108', 51613)\n",
      "连接地址: ('192.168.0.108', 49670)\n",
      "连接地址: ('192.168.0.108', 49677)\n",
      "连接地址: ('192.168.0.108', 49680)\n",
      "连接地址: ('192.168.0.108', 51015)\n",
      "连接地址: ('192.168.0.109', 56768)\n",
      "连接地址: ('192.168.0.109', 56808)\n",
      "连接地址: ('192.168.0.108', 61363)\n"
     ]
    }
   ],
   "source": [
    "\n",
    "#!/usr/bin/python3\n",
    "# 文件名：server.py\n",
    "\n",
    "# 导入 socket、sys 模块\n",
    "import socket\n",
    "import sys\n",
    "\n",
    "# 创建 socket 对象\n",
    "serversocket = socket.socket(\n",
    "            socket.AF_INET, socket.SOCK_STREAM)\n",
    "\n",
    "# 获取本地主机名\n",
    "host = socket.gethostname()\n",
    "\n",
    "port = 9999\n",
    "\n",
    "# 绑定端口号\n",
    "serversocket.bind((host, port))\n",
    "\n",
    "# 设置最大连接数，超过后排队\n",
    "serversocket.listen(5)\n",
    "\n",
    "while True:\n",
    "    # 建立客户端连接\n",
    "    clientsocket,addr = serversocket.accept()      \n",
    "\n",
    "    print(\"连接地址: %s\" % str(addr))\n",
    "   \n",
    "    msg='欢迎访问菜鸟教程！'+ \"\\r\\n\"\n",
    "    clientsocket.send(msg.encode('utf-8'))\n",
    "    clientsocket.close()"
   ]
  },
  {
   "cell_type": "code",
   "execution_count": null,
   "metadata": {},
   "outputs": [],
   "source": [
    "#!/usr/bin/python3\n",
    "# 文件名：client.py\n",
    "\n",
    "# 导入 socket、sys 模块\n",
    "import socket\n",
    "import sys\n",
    "\n",
    "# 创建 socket 对象\n",
    "s = socket.socket(socket.AF_INET, socket.SOCK_STREAM)\n",
    "\n",
    "# 获取本地主机名\n",
    "host = socket.gethostname()\n",
    "\n",
    "# 设置端口号\n",
    "port = 9999\n",
    "\n",
    "# 连接服务，指定主机和端口\n",
    "s.connect((host, port))\n",
    "\n",
    "# 接收小于 1024 字节的数据\n",
    "msg = s.recv(1024)\n",
    "\n",
    "s.close()\n",
    "\n",
    "print (msg.decode('utf-8'))"
   ]
  }
 ],
 "metadata": {
  "interpreter": {
   "hash": "abef8255030384acf001b99b664dafb1eef7d2851524120c2f5fed0d9d62a94e"
  },
  "kernelspec": {
   "display_name": "Python 3.9.10 64-bit (windows store)",
   "language": "python",
   "name": "python3"
  },
  "language_info": {
   "codemirror_mode": {
    "name": "ipython",
    "version": 3
   },
   "file_extension": ".py",
   "mimetype": "text/x-python",
   "name": "python",
   "nbconvert_exporter": "python",
   "pygments_lexer": "ipython3",
   "version": "3.9.10"
  },
  "orig_nbformat": 4
 },
 "nbformat": 4,
 "nbformat_minor": 2
}
