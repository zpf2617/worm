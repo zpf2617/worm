{
 "cells": [
  {
   "cell_type": "code",
   "execution_count": 6,
   "metadata": {},
   "outputs": [
    {
     "name": "stdout",
     "output_type": "stream",
     "text": [
      "DESKTOP-UAT8PHV\n",
      "欢迎访问菜鸟教程！\n",
      "\n"
     ]
    }
   ],
   "source": [
    "#!/usr/bin/python3\n",
    "# 文件名：client.py\n",
    "\n",
    "# 导入 socket、sys 模块\n",
    "import socket\n",
    "import sys\n",
    "\n",
    "# 创建 socket 对象\n",
    "s = socket.socket(socket.AF_INET, socket.SOCK_STREAM)\n",
    "\n",
    "# 获取本地主机名\n",
    "host = socket.gethostname()\n",
    "print(host)\n",
    "# 设置端口号\n",
    "port = 9999\n",
    "\n",
    "# 连接服务，指定主机和端口\n",
    "s.connect((host, port))\n",
    "\n",
    "# 接收小于 1024 字节的数据\n",
    "msg = s.recv(1024)\n",
    "\n",
    "s.close()\n",
    "\n",
    "print (msg.decode('utf-8'))\n",
    "            \n",
    "    "
   ]
  }
 ],
 "metadata": {
  "interpreter": {
   "hash": "abef8255030384acf001b99b664dafb1eef7d2851524120c2f5fed0d9d62a94e"
  },
  "kernelspec": {
   "display_name": "Python 3.9.10 64-bit (windows store)",
   "language": "python",
   "name": "python3"
  },
  "language_info": {
   "codemirror_mode": {
    "name": "ipython",
    "version": 3
   },
   "file_extension": ".py",
   "mimetype": "text/x-python",
   "name": "python",
   "nbconvert_exporter": "python",
   "pygments_lexer": "ipython3",
   "version": "3.9.10"
  },
  "orig_nbformat": 4
 },
 "nbformat": 4,
 "nbformat_minor": 2
}
