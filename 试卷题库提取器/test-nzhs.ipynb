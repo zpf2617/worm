{
 "cells": [
  {
   "cell_type": "code",
   "execution_count": 7,
   "metadata": {},
   "outputs": [
    {
     "name": "stdout",
     "output_type": "stream",
     "text": [
      "b= [1, 2, 3, 4, 5, 6]\n",
      "[5, 3, 6, 2, 1, 4]\n",
      "[1, 2, 3, 4, 5, 6]\n"
     ]
    }
   ],
   "source": [
    "a=[5,3,6,2,1,4]\n",
    "b=sorted(a)\n",
    "print('b=',b)\n",
    "print(a)\n",
    "a.sort()\n",
    "print(a)\n"
   ]
  },
  {
   "cell_type": "code",
   "execution_count": 31,
   "metadata": {},
   "outputs": [],
   "source": [
    "import numpy\n",
    "import pandas\n",
    "# import matplotlib\n",
    "import matplotlib.pyplot as pt\n",
    "\n",
    "# df=pandas.Series(numpy.random.randn(200),index=pandas.date_range('1/2/2000',periods=200))\n",
    "\n",
    "# df.plot(kind='bar')\n",
    "\n",
    "x=numpy.array([0,4])\n",
    "y=numpy.array([0,9])\n",
    "\n",
    "# pt.plot(x,y)\n",
    "# pt.plot([1,2],[3,6],'bo')\n",
    "# pt.plot([1,2],[3,6],'r+')\n",
    "# pt.plot([1,2],[3,6],'g*')\n",
    "# pt.plot([1,2],[3,6],'y')\n",
    "pt.plot([1,3,5,2,5,6,1,2,8,9,2],'1')\n",
    "pt.show()"
   ]
  },
  {
   "cell_type": "code",
   "execution_count": 27,
   "metadata": {},
   "outputs": [
    {
     "data": {
      "text/plain": [
       "array([[1., 0., 0., 0.],\n",
       "       [0., 1., 0., 0.],\n",
       "       [0., 0., 1., 0.],\n",
       "       [0., 0., 0., 1.]])"
      ]
     },
     "execution_count": 27,
     "metadata": {},
     "output_type": "execute_result"
    }
   ],
   "source": [
    "from numpy import *\n",
    "eye(4)"
   ]
  },
  {
   "cell_type": "code",
   "execution_count": 50,
   "metadata": {},
   "outputs": [
    {
     "name": "stdout",
     "output_type": "stream",
     "text": [
      "int32\n",
      "1\n",
      "[[1 3]\n",
      " [2 5]\n",
      " [4 5]]\n"
     ]
    },
    {
     "name": "stderr",
     "output_type": "stream",
     "text": [
      "C:\\Users\\zero\\AppData\\Local\\Temp/ipykernel_13544/1109465549.py:3: VisibleDeprecationWarning: Creating an ndarray from ragged nested sequences (which is a list-or-tuple of lists-or-tuples-or ndarrays with different lengths or shapes) is deprecated. If you meant to do this, you must specify 'dtype=object' when creating the ndarray.\n",
      "  a=numpy.array([1,2,[3,4],8])\n"
     ]
    }
   ],
   "source": [
    "import numpy\n",
    "numpy.eye(4)\n",
    "a=numpy.array([1,2,[3,4],8])\n",
    "# a=numpy.array([1,2,8])\n",
    "# a=numpy.array([[1,  2],  [3,  4]]) \n",
    "a=numpy.array([[1,3,4],[3,8,8]], dtype = complex)\n",
    "# a=numpy.array([[1,2],[3,4]]) \n",
    "dt=numpy.dtype('i4')\n",
    "print(dt)\n",
    "c=numpy.arange(24)\n",
    "print(c.ndim)\n",
    "# b=c.reshape(2,4,9)\n",
    "\n",
    "d=numpy.array([[1,3],[2,5],[4,5]])\n",
    "print(d)"
   ]
  }
 ],
 "metadata": {
  "interpreter": {
   "hash": "abef8255030384acf001b99b664dafb1eef7d2851524120c2f5fed0d9d62a94e"
  },
  "kernelspec": {
   "display_name": "Python 3.9.10 64-bit (windows store)",
   "language": "python",
   "name": "python3"
  },
  "language_info": {
   "codemirror_mode": {
    "name": "ipython",
    "version": 3
   },
   "file_extension": ".py",
   "mimetype": "text/x-python",
   "name": "python",
   "nbconvert_exporter": "python",
   "pygments_lexer": "ipython3",
   "version": "3.9.10"
  },
  "orig_nbformat": 4
 },
 "nbformat": 4,
 "nbformat_minor": 2
}
