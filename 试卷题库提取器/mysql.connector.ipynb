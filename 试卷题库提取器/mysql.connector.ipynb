{
 "cells": [
  {
   "cell_type": "code",
   "execution_count": 3,
   "metadata": {},
   "outputs": [
    {
     "name": "stdout",
     "output_type": "stream",
     "text": [
      "(1, 'jack', 12341234, 20, '1', 'W', None)\n",
      "jack\n",
      "(6, 'jim2', 2343412543, 32, '2', 'M', 1)\n",
      "jim2\n",
      "(12, 'jim4', 23123443, 32, '0', 'M', 1)\n",
      "jim4\n",
      "(16, 'jim5', 23121123, 42, '1', 'M', 6)\n",
      "jim5\n",
      "(24, 'jim8', 2122133, 42, '0', 'M', 6)\n",
      "jim8\n",
      "(28, 'jim10', 2112343, 36, '1', 'M', 6)\n",
      "jim10\n",
      "(30, 'jim12', 790112343, 38, '0', 'M', 12)\n",
      "jim12\n"
     ]
    }
   ],
   "source": [
    "import mysql.connector\n",
    " \n",
    "mydb = mysql.connector.connect(\n",
    "  host=\"localhost\",\n",
    "  user=\"root\",\n",
    "  passwd=\"aaaa@0000\"\n",
    ")\n",
    " \n",
    "mycursor = mydb.cursor()\n",
    " \n",
    "# mycursor.execute(\"SHOW DATABASES\")\n",
    "mycursor.execute(\"use test_database\")\n",
    "# mycursor.execute(\"select * from test_table\")\n",
    "# mycursor.execute(\"select * from test_user,test_status where test_status.st = test_user.status\") \n",
    "mycursor.execute(\"select * from test_user where id >10 or age <40;\") \n",
    "for x in mycursor:\n",
    "  print(x)\n",
    "  print(x[1])"
   ]
  },
  {
   "cell_type": "code",
   "execution_count": 14,
   "metadata": {},
   "outputs": [
    {
     "name": "stdout",
     "output_type": "stream",
     "text": [
      "('information_schema',)\n",
      "('mysql',)\n",
      "('performance_schema',)\n",
      "('runood_db',)\n",
      "('sakila',)\n",
      "('sys',)\n",
      "('world',)\n"
     ]
    }
   ],
   "source": [
    "import mysql.connector\n",
    "\n",
    "mydb=mysql.connector.connect(\n",
    "    host=\"localhost\",\n",
    "    user=\"root\",\n",
    "    passwd=\"aaaa@0000\"\n",
    ")\n",
    "mycursor=mydb.cursor()\n",
    "# mycursor.execute(\"CREATE DATABASE runood_db\")\n",
    "mycursor.execute(\"SHOW DATABASES\")\n",
    "\n",
    "for x in mycursor:\n",
    "    print(x)"
   ]
  },
  {
   "cell_type": "code",
   "execution_count": 7,
   "metadata": {},
   "outputs": [
    {
     "name": "stdout",
     "output_type": "stream",
     "text": [
      "INSERT INTO sites (name, url) VALUES (%s, %s) ('RUNOOB', 'https://www.runoob.com')\n"
     ]
    }
   ],
   "source": [
    "sql = \"INSERT INTO sites (name, url) VALUES (%s, %s)\"\n",
    "val = (\"RUNOOB\", \"https://www.runoob.com\")\n",
    "print(sql, val)"
   ]
  }
 ],
 "metadata": {
  "interpreter": {
   "hash": "abef8255030384acf001b99b664dafb1eef7d2851524120c2f5fed0d9d62a94e"
  },
  "kernelspec": {
   "display_name": "Python 3.9.10 64-bit (windows store)",
   "language": "python",
   "name": "python3"
  },
  "language_info": {
   "codemirror_mode": {
    "name": "ipython",
    "version": 3
   },
   "file_extension": ".py",
   "mimetype": "text/x-python",
   "name": "python",
   "nbconvert_exporter": "python",
   "pygments_lexer": "ipython3",
   "version": "3.9.10"
  },
  "orig_nbformat": 4
 },
 "nbformat": 4,
 "nbformat_minor": 2
}
