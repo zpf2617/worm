{
 "cells": [
  {
   "cell_type": "code",
   "execution_count": 3,
   "metadata": {},
   "outputs": [],
   "source": [
    "import tkinter as tk \n",
    "from tkinter.filedialog import *\n",
    "from PIL import Image\n",
    "  \n",
    "def selectFile():\n",
    "\tglobal img\n",
    "\tfilepath = askopenfilename()  # 选择打开什么文件，返回文件名\n",
    "\tfilename.set(filepath)             # 设置变量filename的值\n",
    "\timg = Image.open(filename.get())    # 打开图片\n",
    "\n",
    "def outputFile():\n",
    "\toutputFilePath = askdirectory()   # 选择目录，返回目录名\n",
    "\toutputpath.set(outputFilePath)   # 设置变量outputpath的值\n",
    "\n",
    "def fileSave():\n",
    "\tfilenewpath = asksaveasfilename(defaultextension='.png')   # 设置保存文件，并返回文件名，指定文件名后缀为.png\n",
    "\tfilenewname.set(filenewpath)                                                 # 设置变量filenewname的值\n",
    "\timg.save(str(filenewname.get()))                                            # 设置保存图片\n",
    "\n",
    "root = tk.Tk()\n",
    "filename = tk.StringVar()\n",
    "outputpath = tk.StringVar()\n",
    "filenewname = tk.StringVar()\n",
    "\n",
    "# 构建“选择文件”这一行的标签、输入框以及启动按钮，同时我们希望当用户选择图片之后能够显示原图的基本信息\n",
    "tk.Label(root, text='选择文件').grid(row=1, column=0, padx=5, pady=5)\n",
    "tk.Entry(root, textvariable=filename).grid(row=1, column=1, padx=5, pady=5)\n",
    "tk.Button(root, text='打开文件', command=selectFile).grid(row=1, column=2, padx=5, pady=5)\n",
    "\n",
    "# 构建“选择目录”这一行的标签、输入框以及启动按钮\n",
    "tk.Label(root, text='选择目录').grid(row=2, column=0, padx=5, pady=5)\n",
    "tk.Entry(root, textvariable=outputpath).grid(row=2, column=1, padx=5, pady=5)\n",
    "tk.Button(root, text='点击选择', command=outputFile).grid(row=2, column=2, padx=5, pady=5)\n",
    "\n",
    "# 构建“保存文件”这一行的标签、输入框以及启动按钮\n",
    "tk.Label(root, text='保存文件').grid(row=3, column=0, padx=5, pady=5)\n",
    "tk.Entry(root, textvariable=filenewname).grid(row=3, column=1, padx=5, pady=5)\n",
    "tk.Button(root, text='点击保存', command=fileSave).grid(row=3, column=2, padx=5, pady=5)\n",
    "\n",
    "\n",
    "root.mainloop()\n"
   ]
  }
 ],
 "metadata": {
  "interpreter": {
   "hash": "abef8255030384acf001b99b664dafb1eef7d2851524120c2f5fed0d9d62a94e"
  },
  "kernelspec": {
   "display_name": "Python 3.9.9 64-bit (windows store)",
   "language": "python",
   "name": "python3"
  },
  "language_info": {
   "codemirror_mode": {
    "name": "ipython",
    "version": 3
   },
   "file_extension": ".py",
   "mimetype": "text/x-python",
   "name": "python",
   "nbconvert_exporter": "python",
   "pygments_lexer": "ipython3",
   "version": "3.9.9"
  },
  "orig_nbformat": 4
 },
 "nbformat": 4,
 "nbformat_minor": 2
}
