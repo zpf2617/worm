{
 "cells": [
  {
   "cell_type": "code",
   "execution_count": 5,
   "metadata": {},
   "outputs": [
    {
     "name": "stdout",
     "output_type": "stream",
     "text": [
      "错误明细 KeyError 'GPS GPSLatitude' C:/Users/zero/Documents/BaiduNetdiskWorkspace/3.jpg\n",
      "错误明细 ZeroDivisionError division by zero C:/Users/zero/Documents/BaiduNetdiskWorkspace/4.jpg\n",
      "错误明细 KeyError 'GPS GPSLatitude' C:/Users/zero/Documents/BaiduNetdiskWorkspace/console.sql\n",
      "错误明细 KeyError 'GPS GPSLatitude' C:/Users/zero/Documents/BaiduNetdiskWorkspace/desktop.ini\n",
      "错误明细 KeyError 'GPS GPSLatitude' C:/Users/zero/Documents/BaiduNetdiskWorkspace/同步空间帮助文档.pdf\n",
      "错误明细 KeyError 'GPS GPSLatitude' C:/Users/zero/Documents/BaiduNetdiskWorkspace/库尔勒机场供电线路图-张鹏飞20220131-22.jpg\n",
      "错误明细 KeyError 'GPS GPSLatitude' C:/Users/zero/Documents/BaiduNetdiskWorkspace/库尔勒机场供电线路图-张鹏飞20220131-3.vsd\n",
      "错误明细 KeyError 'GPS GPSLatitude' C:/Users/zero/Documents/BaiduNetdiskWorkspace/百花3公变.zip\n"
     ]
    }
   ],
   "source": [
    "import exifread\n",
    "import re\n",
    "import os\n",
    "from decimal import Decimal\n",
    "from decimal import getcontext\n",
    "#float有精度损失，要用decimal\n",
    "getcontext().prec = 10\n",
    "#控制decimal精度\n",
    "\n",
    "output=\"result.csv\"\n",
    "out=open(output,'a')\n",
    "out.write('lat,lon\\n')\n",
    "fpath=\"C:/Users/zero/Documents/BaiduNetdiskWorkspace\"\n",
    "\n",
    "\n",
    "def walkFile(filepath):\n",
    "    for root, dirs, files in os.walk(fpath):\n",
    "        # root 表示当前正在访问的文件夹路径\n",
    "        # dirs 表示该文件夹下的子目录名list\n",
    "        # files 表示该文件夹下的文件list\n",
    "        return files\n",
    "\n",
    "\n",
    "fs=walkFile(fpath)\n",
    "# print(fs)\n",
    "# print(\"2\")\n",
    "\n",
    "def readExif(files):\n",
    "    for ff in files:\n",
    "        fname=fpath+'/'+ff\n",
    "        try:\n",
    "            f=open(fname,'rb')\n",
    "            contents=exifread.process_file(f)\n",
    "            # print(contents)#显示所有图片备注信息EXIF！！！！\n",
    "            # print(\"分割---------------\")\n",
    "            # print(type(contents))\n",
    "            # print(contents['GPS GPSLatitude'],'信息****************已经打印')\n",
    "            lat=contents['GPS GPSLatitude']\n",
    "            long=contents['GPS GPSLongitude']\n",
    "            Idata=contents['Image DateTime']\n",
    "            # print(type(Idata))\n",
    "            # print(type(lat.values))\n",
    "            # print(lat.values,'^^^^^^^^^')\n",
    "            \n",
    "            # print(lat[0],'^^^^^^^^^^^^^^^^')\n",
    "            \n",
    "            \n",
    "            # GPSLat=Decimal(lat.values[0])+Decimal(lat.values[1]/60.0)+Decimal(lat.values[2]/3600.0)\n",
    "            \n",
    "            GPSLat=Decimal(lat.values[2]/3600.0)+Decimal(lat.values[1]/60.0)+Decimal(lat.values[0]/1.0)\n",
    "            GPSlong=Decimal(long.values[2]/3600.0)+Decimal(long.values[1]/60.0)+Decimal(long.values[0]/1.0)\n",
    "\n",
    "            \n",
    "            out.write(str(GPSLat)+','+str(GPSlong)+','+str(Idata)+','+str(ff)+'\\n')\n",
    "            # GPSLat=Decimal(lat.values[2]/3600.0)\n",
    "            # GPSLat=float(lat.values[1]/60.0)\n",
    "            # print(GPSLat,'@@@@@@@@@@@@@@@')\n",
    "            # print(GPSLatitude,'&&&&&&&&&&&&')\n",
    "            # GPSLongitude\n",
    "        except Exception as e:\n",
    "            print('错误明细',e.__class__.__name__,e,fname)\n",
    "            continue\n",
    "\n",
    "readExif(fs)\n",
    "\n",
    "out.close()"
   ]
  },
  {
   "cell_type": "code",
   "execution_count": 11,
   "metadata": {},
   "outputs": [
    {
     "name": "stdout",
     "output_type": "stream",
     "text": [
      "错误明细 KeyError 'GPS GPSLatitude' C:/Users/zero/Documents/BaiduNetdiskWorkspace/3.jpg\n",
      "错误明细 ZeroDivisionError division by zero C:/Users/zero/Documents/BaiduNetdiskWorkspace/4.jpg\n",
      "错误明细 KeyError 'GPS GPSLatitude' C:/Users/zero/Documents/BaiduNetdiskWorkspace/console.sql\n",
      "错误明细 KeyError 'GPS GPSLatitude' C:/Users/zero/Documents/BaiduNetdiskWorkspace/desktop.ini\n",
      "错误明细 KeyError 'GPS GPSLatitude' C:/Users/zero/Documents/BaiduNetdiskWorkspace/同步空间帮助文档.pdf\n",
      "错误明细 KeyError 'GPS GPSLatitude' C:/Users/zero/Documents/BaiduNetdiskWorkspace/库尔勒机场供电线路图-张鹏飞20220131-22.jpg\n",
      "错误明细 KeyError 'GPS GPSLatitude' C:/Users/zero/Documents/BaiduNetdiskWorkspace/库尔勒机场供电线路图-张鹏飞20220131-3.vsd\n",
      "错误明细 KeyError 'GPS GPSLatitude' C:/Users/zero/Documents/BaiduNetdiskWorkspace/百花3公变.zip\n"
     ]
    }
   ],
   "source": [
    "import exifread\n",
    "import os\n",
    "from decimal import Decimal\n",
    "from decimal import getcontext\n",
    "\n",
    "def walkFile(filepath):\n",
    "    for root, dirs, files in os.walk(fpath):\n",
    "        return files\n",
    "\n",
    "def readExif(files):\n",
    "    for ff in files:\n",
    "        fname=fpath+'/'+ff\n",
    "        try:\n",
    "            f=open(fname,'rb')\n",
    "            contents=exifread.process_file(f)\n",
    "            lat=contents['GPS GPSLatitude']\n",
    "            long=contents['GPS GPSLongitude']\n",
    "            Idata=contents['Image DateTime']\n",
    "            GPSLat=Decimal(lat.values[2]/3600.0)+Decimal(lat.values[1]/60.0)+Decimal(lat.values[0]/1.0)\n",
    "            GPSlong=Decimal(long.values[2]/3600.0)+Decimal(long.values[1]/60.0)+Decimal(long.values[0]/1.0)  \n",
    "            outf.write(str(GPSLat)+','+str(GPSlong)+','+str(Idata)+','+str(ff)+'\\n')\n",
    "        except Exception as e:\n",
    "            print('错误明细',e.__class__.__name__,e,fname)\n",
    "            continue\n",
    "\n",
    "getcontext().prec = 10\n",
    "fpath=\"C:/Users/zero/Documents/BaiduNetdiskWorkspace\"\n",
    "\n",
    "with open('result.csv', 'a') as outf:\n",
    "    outf.write('纬度,经度,拍摄日期,文件名\\n')\n",
    "    fs=walkFile(fpath)\n",
    "    readExif(fs)\n"
   ]
  }
 ],
 "metadata": {
  "interpreter": {
   "hash": "abef8255030384acf001b99b664dafb1eef7d2851524120c2f5fed0d9d62a94e"
  },
  "kernelspec": {
   "display_name": "Python 3.9.10 64-bit (windows store)",
   "language": "python",
   "name": "python3"
  },
  "language_info": {
   "codemirror_mode": {
    "name": "ipython",
    "version": 3
   },
   "file_extension": ".py",
   "mimetype": "text/x-python",
   "name": "python",
   "nbconvert_exporter": "python",
   "pygments_lexer": "ipython3",
   "version": "3.9.10"
  },
  "orig_nbformat": 4
 },
 "nbformat": 4,
 "nbformat_minor": 2
}
