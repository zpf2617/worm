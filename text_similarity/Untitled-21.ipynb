{
 "cells": [
  {
   "cell_type": "code",
   "execution_count": 14,
   "metadata": {},
   "outputs": [
    {
     "name": "stdout",
     "output_type": "stream",
     "text": [
      "A1\n",
      "A的构造函数\n",
      "执行A的init方法\n",
      "A1新的init实现部分\n"
     ]
    }
   ],
   "source": [
    "class A:\n",
    "    def __init__(self,name):\n",
    "        self.name=name\n",
    "        print('A的构造函数')\n",
    "        print('执行A的init方法')\n",
    "\n",
    "\n",
    "class A1(A):\n",
    "    print('A1')\n",
    "    def __init__(self,name):\n",
    "        super().__init__(name)\n",
    "        print('A1新的init实现部分')\n",
    "    pass\n",
    "\n",
    "\n",
    "if __name__ ==\"__main__\":\n",
    "    a1=A1('哈士奇')"
   ]
  },
  {
   "cell_type": "code",
   "execution_count": 15,
   "metadata": {},
   "outputs": [
    {
     "name": "stdout",
     "output_type": "stream",
     "text": [
      "执行B的RUN方法\n"
     ]
    }
   ],
   "source": [
    "class A:\n",
    "    def run(self):\n",
    "        print('执行A的run方法')\n",
    "\n",
    "class B(A):\n",
    "    def run(self):\n",
    "        print('执行B的RUN方法')\n",
    "\n",
    "B().run()\n"
   ]
  },
  {
   "cell_type": "code",
   "execution_count": 20,
   "metadata": {},
   "outputs": [
    {
     "name": "stdout",
     "output_type": "stream",
     "text": [
      "dog is shouting!\n",
      "car is shouting!\n"
     ]
    }
   ],
   "source": [
    "class dog:\n",
    "    def shout(self):\n",
    "        print('dog is shouting!')\n",
    "\n",
    "class car:\n",
    "    def shout(self):\n",
    "        print(\"car is shouting!\")\n",
    "\n",
    "def f(obj):\n",
    "    obj.shout()\n",
    "\n",
    "f(dog())\n",
    "f(car())"
   ]
  },
  {
   "cell_type": "code",
   "execution_count": 45,
   "metadata": {},
   "outputs": [
    {
     "data": {
      "text/plain": [
       "True"
      ]
     },
     "execution_count": 45,
     "metadata": {},
     "output_type": "execute_result"
    }
   ],
   "source": [
    "class A:\n",
    "    def __init__(self,name):\n",
    "        self.name=name\n",
    "\n",
    "\n",
    "a=A('dog')\n",
    "a.age=20\n",
    "\n",
    "# a.age\n",
    "getattr(a,'age')\n",
    "delattr(a,'age')\n",
    "# a.age=20\n",
    "# hasattr(a,\"age\")\n",
    "hasattr(a,'name')"
   ]
  },
  {
   "cell_type": "code",
   "execution_count": 44,
   "metadata": {},
   "outputs": [
    {
     "ename": "SyntaxError",
     "evalue": "invalid syntax (Temp/ipykernel_8380/3829748596.py, line 2)",
     "output_type": "error",
     "traceback": [
      "\u001b[1;36m  File \u001b[1;32m\"C:\\Users\\zero\\AppData\\Local\\Temp/ipykernel_8380/3829748596.py\"\u001b[1;36m, line \u001b[1;32m2\u001b[0m\n\u001b[1;33m    conda info --envs\u001b[0m\n\u001b[1;37m          ^\u001b[0m\n\u001b[1;31mSyntaxError\u001b[0m\u001b[1;31m:\u001b[0m invalid syntax\n"
     ]
    }
   ],
   "source": []
  },
  {
   "cell_type": "markdown",
   "metadata": {},
   "source": [
    "<!-- the day 2021,11,29日\n",
    "python 中文网 -->\n",
    "#测试类"
   ]
  },
  {
   "cell_type": "code",
   "execution_count": 3,
   "metadata": {},
   "outputs": [
    {
     "name": "stdout",
     "output_type": "stream",
     "text": [
      "(1, True, 'make')\n",
      "{10, 3, 4, 7}\n"
     ]
    }
   ],
   "source": [
    "他=1,True,'make'\n",
    "print(他)\n",
    "\n",
    "nums=[3,4,3,7,10]\n",
    "sets=set(nums)\n",
    "print(sets)"
   ]
  },
  {
   "cell_type": "code",
   "execution_count": 12,
   "metadata": {},
   "outputs": [
    {
     "name": "stdout",
     "output_type": "stream",
     "text": [
      "This is a test\n",
      "OK\n"
     ]
    }
   ],
   "source": [
    "f=open('test_1.txt','w+')\n",
    "f.write('This is a test')\n",
    "f.close()\n",
    "\n",
    "f=open('test_1.txt','a')\n",
    "f.write('\\nOK')\n",
    "f.close()\n",
    "\n",
    "f=open('test_1.txt','r')\n",
    "data=f.read()\n",
    "print(data)\n"
   ]
  },
  {
   "cell_type": "markdown",
   "metadata": {},
   "source": [
    "Python读写测试\n",
    "CSV格式读写\n"
   ]
  },
  {
   "cell_type": "code",
   "execution_count": 15,
   "metadata": {},
   "outputs": [
    {
     "name": "stdout",
     "output_type": "stream",
     "text": [
      "['name', 'city']\n",
      "['zhang', 'chen']\n"
     ]
    }
   ],
   "source": [
    "import csv\n",
    "with open('test.csv',mode='w',newline='') as f:\n",
    "    writer=csv.writer(f,delimiter=',')\n",
    "    writer.writerow(['name','city'])\n",
    "    writer.writerow(['zhang','chen'])\n",
    "\n",
    "with open('test.csv',mode='r') as f:\n",
    "    reader=csv.reader(f,delimiter=',')\n",
    "    for row in reader:\n",
    "        print(row)"
   ]
  },
  {
   "cell_type": "code",
   "execution_count": null,
   "metadata": {},
   "outputs": [],
   "source": []
  },
  {
   "cell_type": "markdown",
   "metadata": {},
   "source": [
    "练习题"
   ]
  },
  {
   "cell_type": "code",
   "execution_count": 36,
   "metadata": {},
   "outputs": [
    {
     "name": "stdout",
     "output_type": "stream",
     "text": [
      "This is a test\n",
      "OK3452345asdf3452345234esf啊发的说法asfaswf234\n",
      "asdfawsd \n",
      "aswfq wefa scdf23r艾萨克防火墙我\n",
      "asefasdf\n",
      "zareg\n",
      "234r12\n",
      "qwe\n",
      "asdf\n",
      "1638204690.4257927qwef\n",
      "Tue Nov 30 00:52:49 20213trw3resf\n",
      "Tue Nov 30 00:53:07 2021werTue Nov 30 00:53:28 2021\n",
      "adfTue Nov 30 00:53:41 2021\n",
      "todayTue Nov 30 00:53:53 2021\n",
      "tomorroTue Nov 30 00:54:01 2021\n",
      "yetoday  时间戳：Tue Nov 30 00:54:48 2021\n",
      "\n"
     ]
    }
   ],
   "source": [
    "\n",
    "import time\n",
    "a=input('input you favarite爱你所爱')\n",
    "f=open('test_1.txt','a')\n",
    "f.write(a)\n",
    "f.write('  时间戳：')\n",
    "f.write(str(time.asctime(time.localtime(time.time()))))\n",
    "f.write('\\n')\n",
    "f.close()\n",
    "\n",
    "f=open('test_1.txt','r')\n",
    "print(f.read())\n",
    "f.close()\n"
   ]
  },
  {
   "cell_type": "code",
   "execution_count": 51,
   "metadata": {},
   "outputs": [
    {
     "name": "stdout",
     "output_type": "stream",
     "text": [
      "Dave\n",
      "Dennis\n",
      "Peter\n",
      "Jess\n",
      "Python\n",
      "C\n",
      "Java\n",
      "Python\n",
      "['name', 'city']\n",
      "['zhang', 'chen']\n",
      "['name', 'language']\n",
      "['name', 'language']\n",
      "[\"['Dave', 'Dennis', 'Peter', 'Jess']\", \"['Python', 'C', 'Java', 'Python']\"]\n",
      "['name', 'language']\n",
      "[\"['Dave', 'Dennis', 'Peter', 'Jess']\", \"['Python', 'C', 'Java', 'Python']\"]\n",
      "['name', 'language']\n",
      "[\"['Dave', 'Dennis', 'Peter', 'Jess']\", \"['Python', 'C', 'Java', 'Python']\"]\n"
     ]
    }
   ],
   "source": [
    "import csv\n",
    "data = {\n",
    "'name' : ['Dave', 'Dennis', 'Peter', 'Jess'],\n",
    "'language': ['Python', 'C', 'Java', 'Python']\n",
    "}\n",
    "\n",
    "\n",
    "keys=[]\n",
    "items=[]\n",
    "\n",
    "for key in data.keys():\n",
    "    keys.append(key)\n",
    "    items.append(data.get(key))\n",
    "\n",
    "with open('test.csv',mode='a',newline='') as f:\n",
    "    writer=csv.writer(f,delimiter=',')\n",
    "    writer.writerow(keys)\n",
    "    writer.writerow(items)\n",
    "    for key in keys:\n",
    "        for i in data.get(key):\n",
    "            print(i)\n",
    "\n",
    "    \n",
    "with open('test.csv',mode='r') as f:\n",
    "    reader=csv.reader(f,delimiter=',')\n",
    "    for row in reader:\n",
    "        print(row)"
   ]
  },
  {
   "cell_type": "markdown",
   "metadata": {},
   "source": [
    "周五项目：利用CSV文件创建一个用户数据库”。"
   ]
  },
  {
   "cell_type": "code",
   "execution_count": 9,
   "metadata": {},
   "outputs": [
    {
     "name": "stdout",
     "output_type": "stream",
     "text": [
      "Thanks for using our software!\n"
     ]
    }
   ],
   "source": [
    "import csv\n",
    "from IPython.display import clear_output\n",
    "\n",
    "#注册\n",
    "def registerUser():\n",
    "    with open('users.csv',mode='a',newline='') as f:\n",
    "        writer=csv.writer(f,delimiter=',')\n",
    "        print('To register,please enter your info:')\n",
    "        email=input('E-mail')\n",
    "        password=input('Password')\n",
    "        password2=input('Re-type password:')\n",
    "        clear_output()\n",
    "        if password==password2:\n",
    "            writer.writerow([email,password])\n",
    "            print('You are  now registered!')\n",
    "        else:\n",
    "            print('Your password is different! Try it again.')\n",
    "\n",
    "\n",
    "#登录\n",
    "def loginUser():\n",
    "    print('To login,please enter you info:')\n",
    "    email=input('email')\n",
    "    password=input('password')\n",
    "    clear_output()\n",
    "    with open('users.csv',mode='r') as f:\n",
    "        reader=csv.reader(f,delimiter=',')\n",
    "        for row in reader:\n",
    "            if row==[email,password]:\n",
    "                print('you are now logged in!')\n",
    "                return True\n",
    "    print('something is wrong,try agin.')\n",
    "    return False\n",
    "\n",
    "\n",
    "#主体\n",
    "active=True\n",
    "logged_in=False\n",
    "\n",
    "while active:\n",
    "    if logged_in:\n",
    "        print('1.logout\\n2.quit')\n",
    "    else:\n",
    "        print('1.login\\n2.register\\n3.quit')\n",
    "    \n",
    "    choice=input('what would you like to do ').lower()\n",
    "    clear_output()\n",
    "    if choice=='register' and logged_in ==False:\n",
    "        registerUser()\n",
    "    elif choice=='login' and logged_in==False:\n",
    "        logged_in=loginUser()\n",
    "    elif choice=='quit':\n",
    "        active=False\n",
    "        print('Thanks for using our software!')\n",
    "    elif choice=='logout' and logged_in==True:\n",
    "        logged_in=False\n",
    "        print('you are now logged out.')\n",
    "    else:\n",
    "        print('sorry,please try again!')\n",
    "        \n",
    "\n",
    "\n",
    "\n",
    "    \n",
    "        "
   ]
  },
  {
   "cell_type": "markdown",
   "metadata": {},
   "source": [
    "User Input and Type Converting"
   ]
  },
  {
   "cell_type": "code",
   "execution_count": 11,
   "metadata": {},
   "outputs": [
    {
     "name": "stdout",
     "output_type": "stream",
     "text": [
      "you did not put in a number!\n",
      "plesase tyr it again！\n",
      "car yelor nae\n"
     ]
    }
   ],
   "source": [
    "a=bool(True)\n",
    "\n",
    "type(a)\n",
    "a1=input('input number a')\n",
    "b1=input('input number b')\n",
    "try:\n",
    "    print(int(a1)+int(b1))\n",
    "\n",
    "except:\n",
    "    print('you did not put in a number!\\nplesase tyr it again！')\n"
   ]
  },
  {
   "cell_type": "code",
   "execution_count": 14,
   "metadata": {},
   "outputs": [
    {
     "name": "stdout",
     "output_type": "stream",
     "text": [
      "2018 old blue car!\n"
     ]
    }
   ],
   "source": [
    "\n",
    "\n",
    "year=input('year')\n",
    "color=input('color')\n",
    "name=input('name')\n",
    "\n",
    "print(f\"{year} old {color} {name}!\")"
   ]
  },
  {
   "cell_type": "markdown",
   "metadata": {},
   "source": [
    "day 12"
   ]
  },
  {
   "cell_type": "code",
   "execution_count": 30,
   "metadata": {},
   "outputs": [
    {
     "name": "stdout",
     "output_type": "stream",
     "text": [
      "it is true\n",
      "yes\n",
      "It's same\n"
     ]
    }
   ],
   "source": [
    "x,y,z=1,1,3\n",
    "if z>x and x==y:\n",
    "    print('it is true')\n",
    "\n",
    "\n",
    "\n",
    "#检查内含物 – 第一部分： 请求用户输入并检查输入数据中是否包含”es\n",
    "str='is not matter'\n",
    "if 'no' in str:\n",
    "    print('yes')\n",
    "\n",
    "\n",
    "\n",
    "# 检查内含物 – 第二部分： 请求用户输入并检查输入数据中是否以”ing”结尾。提示：使用Slicing。\n",
    "\n",
    "str='she is crying'\n",
    "str[-3::1]\n",
    "str1=input('input a str end with \"ing\"')\n",
    "if str1[-3:] =='ing':\n",
    "    print('it is done')\n",
    "\n",
    "\n",
    "# 检查相等 ：请求用户输入两个词，写一个条件语句去检查两个词是否一致。让代码不区分大小写以防止大写字母影响判断。\n",
    "st1=input('string input 1')\n",
    "st2=input('string input 2')\n",
    "if st1.lower() ==st2.lower():\n",
    "    print('It\\'s same')\n",
    "\n"
   ]
  },
  {
   "cell_type": "code",
   "execution_count": 36,
   "metadata": {},
   "outputs": [
    {
     "name": "stdout",
     "output_type": "stream",
     "text": [
      "4.941729\n"
     ]
    }
   ],
   "source": [
    "# 指数回报： 请求用户输入一个数字，如果数字小于10则输出它的平方数。提示： 探索指数算术运算符的表达式。\n",
    "num=float(input('input a number'))\n",
    "if num<10:\n",
    "    print(num**2)"
   ]
  },
  {
   "cell_type": "markdown",
   "metadata": {},
   "source": [
    "Day13 elif 语句"
   ]
  },
  {
   "cell_type": "markdown",
   "metadata": {},
   "source": [
    "Friday Project：Creating a Calculator"
   ]
  },
  {
   "cell_type": "code",
   "execution_count": 51,
   "metadata": {},
   "outputs": [
    {
     "name": "stdout",
     "output_type": "stream",
     "text": [
      "You chose sub\n",
      "you chose sub\n",
      "please keep in mind that the order of you number matter\n",
      "you chose yes\n",
      "the order is changed\n",
      "2.0-1.0=1.0\n"
     ]
    }
   ],
   "source": [
    "operation=input('Would you like to add/sub/multiply/divide?').lower()\n",
    "print('You chose {}'.format(operation))\n",
    "\n",
    "\n",
    "if operation=='divide' or operation=='sub':\n",
    "    \n",
    "    print(f'you chose {operation}')\n",
    "    print('please keep in mind that the order of you number matter')\n",
    "num1=input('input the first number')\n",
    "num2=input('input the second number')\n",
    "change=input('if you would change the number\\'s oder?yes or no')\n",
    "print(f'you chose {change}')\n",
    "if change==\"yes\":\n",
    "    num1,num2=num2,num1\n",
    "    print('the order is changed')\n",
    "elif change=='no':\n",
    "    pass\n",
    "else:\n",
    "    print('wrong selection!')\n",
    "\n",
    "\n",
    "try:\n",
    "    num1,num2=float(num1),float(num2)\n",
    "    if operation==\"add\":\n",
    "        result=num1+num2\n",
    "        result=num1+num2\n",
    "        print(f'{num1}+{num2}={result}')\n",
    "    elif operation==\"sub\":\n",
    "        result=num1-num2\n",
    "        print(f'{num1}-{num2}={result}')\n",
    "    elif operation==\"multiply\":\n",
    "        result=num1*num2\n",
    "        print(f'{num1}*{num2}={result}')\n",
    "    elif operation==\"divide\":\n",
    "        result=num1/num2\n",
    "        print(f'{num1}/{num2}={result}')\n",
    "\n",
    "    else:\n",
    "        print(f'sorry,but {operation}is not a operation')\n",
    "\n",
    "except:\n",
    "    print('Error!wrong operation')\n"
   ]
  },
  {
   "cell_type": "code",
   "execution_count": 44,
   "metadata": {},
   "outputs": [
    {
     "name": "stdout",
     "output_type": "stream",
     "text": [
      "3\n",
      "['c', 'b', 'a']\n",
      "cba\n",
      "['a', 'b', 'c']\n"
     ]
    }
   ],
   "source": [
    "str=input(\"input a string\")\n",
    "str1=[]\n",
    "# str1.append(str[2])abc\n",
    "\n",
    "# str[len(str)-1]\n",
    "for i in range(len(str)):\n",
    "    str1.append(str[len(str)-i-1])  \n",
    "print(len(str))\n",
    "print(str1)\n",
    "m=\"\".join(str1)\n",
    "print(m)\n",
    "s=str.split(\"b\")\n",
    "print(list(str))"
   ]
  },
  {
   "cell_type": "code",
   "execution_count": 57,
   "metadata": {},
   "outputs": [
    {
     "name": "stdout",
     "output_type": "stream",
     "text": [
      "ccba\n"
     ]
    }
   ],
   "source": [
    "#反转字符串\n",
    "str='abcc'\n",
    "# str=str[::-1]\n",
    "\n",
    "str1=list(str)\n",
    "str1.reverse()\n",
    "str=\"\".join(str1)\n",
    "print(str)"
   ]
  },
  {
   "cell_type": "code",
   "execution_count": 3,
   "metadata": {},
   "outputs": [
    {
     "name": "stdout",
     "output_type": "stream",
     "text": [
      "John\n",
      "John\n",
      "J\n",
      "Abrahm\n",
      "Abrahm\n",
      "A\n",
      "sam\n",
      "sam\n",
      "s\n",
      "Kelly\n",
      "Kelly\n",
      "K\n"
     ]
    }
   ],
   "source": [
    "list=['John','Abrahm','sam','Kelly']\n",
    "it=iter(list)\n",
    "for i in range(len(list)):\n",
    "    print(next(it))\n",
    "    print(list[i])\n",
    "    print(list[i][0])"
   ]
  },
  {
   "cell_type": "code",
   "execution_count": 6,
   "metadata": {},
   "outputs": [
    {
     "name": "stdout",
     "output_type": "stream",
     "text": [
      "2\n",
      "5\n",
      "8\n"
     ]
    }
   ],
   "source": [
    "for num in range(2,10,3):\n",
    "    print(num)"
   ]
  },
  {
   "cell_type": "code",
   "execution_count": 14,
   "metadata": {},
   "outputs": [
    {
     "name": "stdout",
     "output_type": "stream",
     "text": [
      "c\n",
      "a\n",
      "n\n",
      "y\n",
      "o\n",
      "u\n"
     ]
    }
   ],
   "source": [
    "name='can you hear me'\n",
    "for letter in name:\n",
    "    if letter== ' ':\n",
    "        continue\n",
    "    elif letter=='h':\n",
    "        break\n",
    "    elif letter=='y':\n",
    "        pass\n",
    "\n",
    "    print(letter)"
   ]
  },
  {
   "cell_type": "code",
   "execution_count": 16,
   "metadata": {},
   "outputs": [
    {
     "name": "stdout",
     "output_type": "stream",
     "text": [
      "3\n",
      "6\n",
      "9\n"
     ]
    }
   ],
   "source": [
    "for i in range(1,10,1):\n",
    "    if i % 3==0:\n",
    "        print(i)\n"
   ]
  },
  {
   "cell_type": "code",
   "execution_count": 21,
   "metadata": {},
   "outputs": [
    {
     "name": "stdout",
     "output_type": "stream",
     "text": [
      "oeieieaee"
     ]
    }
   ],
   "source": [
    "#输出元音字母\n",
    "y='aeiou'#5个元音字母\n",
    "s=input('input your string')\n",
    "for i in s:\n",
    "    for j in y:\n",
    "        if j==i:\n",
    "            print(i,end='')\n",
    "        else:\n",
    "            pass"
   ]
  },
  {
   "cell_type": "code",
   "execution_count": 2,
   "metadata": {},
   "outputs": [
    {
     "name": "stdout",
     "output_type": "stream",
     "text": [
      "[0, 3, 5, 8]\n"
     ]
    }
   ],
   "source": [
    "nums = [5, 0, 8, 3]\n",
    "nums.sort()           # 真接更改并覆盖原始列表\n",
    "print(nums)"
   ]
  },
  {
   "cell_type": "code",
   "execution_count": 5,
   "metadata": {},
   "outputs": [
    {
     "name": "stdout",
     "output_type": "stream",
     "text": [
      "iueue"
     ]
    }
   ],
   "source": [
    "y='aeiou'#5个元音字母\n",
    "s=input('input your string')\n",
    "for i in s:\n",
    "    if i in y:\n",
    "        print(i,end='')"
   ]
  },
  {
   "cell_type": "markdown",
   "metadata": {},
   "source": [
    "星期五项目：创建猜单词游戏（Hangman）"
   ]
  },
  {
   "cell_type": "code",
   "execution_count": 10,
   "metadata": {},
   "outputs": [
    {
     "data": {
      "text/plain": [
       "'hello'"
      ]
     },
     "execution_count": 10,
     "metadata": {},
     "output_type": "execute_result"
    }
   ],
   "source": [
    "def f():\n",
    "    a=['hello','world']\n",
    "    for w in a:\n",
    "        yield w\n",
    "        print('yes')\n",
    "\n",
    "go = f()\n",
    "next(go)\n",
    "# next(go)\n",
    "\n"
   ]
  },
  {
   "cell_type": "code",
   "execution_count": 1,
   "metadata": {},
   "outputs": [
    {
     "name": "stdout",
     "output_type": "stream",
     "text": [
      "this is W\n",
      "this is g()\n",
      "this is W\n"
     ]
    }
   ],
   "source": [
    "def f(h):\n",
    "    def g():\n",
    "        h()\n",
    "        print('this is g()')\n",
    "        h()\n",
    "    return g\n",
    "\n",
    "\n",
    "@f\n",
    "def w():\n",
    "    print('this is W')\n",
    "\n",
    "w()\n"
   ]
  },
  {
   "cell_type": "code",
   "execution_count": 2,
   "metadata": {},
   "outputs": [
    {
     "name": "stdout",
     "output_type": "stream",
     "text": [
      "ab\n"
     ]
    }
   ],
   "source": [
    "def prt(a,b,c=''):\n",
    "    print(a+b+c)\n",
    "prt('a','b')"
   ]
  },
  {
   "cell_type": "code",
   "execution_count": 3,
   "metadata": {},
   "outputs": [
    {
     "name": "stdout",
     "output_type": "stream",
     "text": [
      "<class 'tuple'>\n",
      "2\n",
      "3\n",
      "4\n",
      "5\n",
      "6\n"
     ]
    }
   ],
   "source": [
    "def outp(name,*args):\n",
    "    print(type(args))\n",
    "    for arg in args:\n",
    "        print(arg)\n",
    "\n",
    "outp(1,2,3,4,5,6)"
   ]
  },
  {
   "cell_type": "code",
   "execution_count": 5,
   "metadata": {},
   "outputs": [
    {
     "name": "stdout",
     "output_type": "stream",
     "text": [
      "<class 'dict'>\n",
      "zhang\n",
      "5\n"
     ]
    }
   ],
   "source": [
    "def outp(**kwargs):\n",
    "    print(type(kwargs))\n",
    "    print(kwargs['name'])\n",
    "    print(kwargs['num'])\n",
    "outp(name='zhang',num=5,b=True)"
   ]
  },
  {
   "cell_type": "code",
   "execution_count": 11,
   "metadata": {},
   "outputs": [
    {
     "name": "stdout",
     "output_type": "stream",
     "text": [
      "False\n"
     ]
    }
   ],
   "source": [
    "str=input('input a string')\n",
    "print(str[0].isupper())"
   ]
  },
  {
   "cell_type": "code",
   "execution_count": 19,
   "metadata": {},
   "outputs": [
    {
     "name": "stdout",
     "output_type": "stream",
     "text": [
      "take back\n"
     ]
    }
   ],
   "source": [
    "def prt(first_name=\"\",last_name=\"\"):\n",
    "    if first_name=='' and last_name=='':\n",
    "        print(\"No name passed in\")\n",
    "    else:\n",
    "        print(first_name+' '+last_name)\n",
    "\n",
    "prt('take','back')"
   ]
  },
  {
   "cell_type": "code",
   "execution_count": 6,
   "metadata": {},
   "outputs": [
    {
     "name": "stdout",
     "output_type": "stream",
     "text": [
      "['bill', 'bob', 'jack', 'white']\n"
     ]
    }
   ],
   "source": [
    "names=['bill','bob','jack','jame']\n",
    "def change_name(list,name,index):\n",
    "    list[index]=name\n",
    "\n",
    "\n",
    "change_name(names,'white',3)\n",
    "print(names)"
   ]
  },
  {
   "cell_type": "code",
   "execution_count": 16,
   "metadata": {},
   "outputs": [
    {
     "name": "stdout",
     "output_type": "stream",
     "text": [
      "1 3 5/n/n"
     ]
    }
   ],
   "source": [
    "class test:\n",
    "    def __init__(self,a,b,c):\n",
    "        self.x=a\n",
    "        self.y=b\n",
    "        self.z=c\n",
    "    def pr(ag):\n",
    "        print(ag)\n",
    "        print(ag.__class__)\n",
    "\n",
    "t=test(1,3,5)\n",
    "# t.pr()\n",
    "print(t.x,t.y,t.z,end='/n/n')"
   ]
  },
  {
   "cell_type": "code",
   "execution_count": 8,
   "metadata": {},
   "outputs": [
    {
     "name": "stdout",
     "output_type": "stream",
     "text": [
      "我叫jack，我今年19岁了，我体重62公斤,我是3年级学生\n",
      "我叫white，我今年22岁了，我体重70公斤\n"
     ]
    }
   ],
   "source": [
    "# 类的继承\n",
    "class People:\n",
    "    name=''\n",
    "    age=1\n",
    "    __weight=0\n",
    "    def __init__(self,n,a,w):\n",
    "        self.name=n\n",
    "        self.age=a\n",
    "        #如果是私有变量则继承类无法访问\n",
    "        # self.__weight=w\n",
    "        self.weight=w\n",
    "\n",
    "    \n",
    "    def speak(self):\n",
    "        print(f'我叫{self.name}，我今年{self.age}岁了，我体重{self.weight}公斤')\n",
    "\n",
    "class student(People):\n",
    "    # grade=''\n",
    "    def __init__(self,n,a,w,g):\n",
    "        People.__init__(self,n,a,w)\n",
    "        self.grade=g\n",
    "    \n",
    "    def speak(self):\n",
    "        print(f'我叫{self.name}，我今年{self.age}岁了，我体重{self.weight}公斤,我是{self.grade}年级学生')\n",
    "\n",
    "t=student('jack',19,62,3)\n",
    "t.speak()\n",
    "t=People('white',22,70)\n",
    "t.speak()\n",
    "        "
   ]
  },
  {
   "cell_type": "code",
   "execution_count": 1,
   "metadata": {},
   "outputs": [
    {
     "name": "stdout",
     "output_type": "stream",
     "text": [
      "Vector-(4,6)\n"
     ]
    }
   ],
   "source": [
    "class Vector:\n",
    "    def __init__(self,a,b):\n",
    "        self.a=a\n",
    "        self.b=b\n",
    "    # def __str__(self):return返回可以打印的字符串\n",
    "    def __str__(self):\n",
    "        return f'Vector-({self.a},{self.b})'\n",
    "\n",
    "    def __add__(self,other):\n",
    "        return Vector(self.a+other.a,self.b+other.b)\n",
    "\n",
    "x=Vector(1,2)\n",
    "y=Vector(3,4)\n",
    "print(x+y)\n"
   ]
  },
  {
   "cell_type": "code",
   "execution_count": 6,
   "metadata": {},
   "outputs": [
    {
     "name": "stdout",
     "output_type": "stream",
     "text": [
      "<zip object at 0x000001E9EAC3F600>\n",
      "jack\n",
      "mack\n",
      "['zack', 'blue']\n"
     ]
    }
   ],
   "source": [
    "a=['jack','mack','zack','blue']\n",
    "b=[1,2,3,4,5]\n",
    "{i:j for i,j in zip(a,b)}\n",
    "zip(b,a)\n",
    "print(zip(b,a))\n",
    "\n",
    "a1,a2,*a3=a\n",
    "print(a1)\n",
    "print(a2)\n",
    "print(a3)"
   ]
  },
  {
   "cell_type": "code",
   "execution_count": 17,
   "metadata": {},
   "outputs": [
    {
     "name": "stdout",
     "output_type": "stream",
     "text": [
      "C:\\Users\\zero\\AppData\\Local\\Packages\\PythonSoftwareFoundation.Python.3.9_qbz5n2kfra8p0\\LocalCache\\local-packages\\Python39\\site-packages\\ipykernel_launcher.py\n",
      "--ip=127.0.0.1\n",
      "--stdin=9003\n",
      "--control=9001\n",
      "--hb=9000\n",
      "--Session.signature_scheme=\"hmac-sha256\"\n",
      "--Session.key=b\"e108ec9c-4be9-4840-a75c-5258541dea2b\"\n",
      "--shell=9002\n",
      "--transport=\"tcp\"\n",
      "--iopub=9004\n",
      "--f=C:\\Users\\zero\\AppData\\Local\\Temp\\tmp-8492T8Qo6FXXjA9o.json\n"
     ]
    }
   ],
   "source": [
    "import sys\n",
    "print(sys.argv[0])\n",
    "print(sys.argv[1])\n",
    "print(sys.argv[2])\n",
    "print(sys.argv[3])\n",
    "print(sys.argv[4])\n",
    "print(sys.argv[5])\n",
    "print(sys.argv[6])\n",
    "print(sys.argv[7])\n",
    "print(sys.argv[8])\n",
    "print(sys.argv[9])\n",
    "print(sys.argv[10])\n",
    "# print(sys.argv[11])\n",
    "# print(sys.argv[12])\n",
    "# print(sys.argv[13])\n"
   ]
  },
  {
   "cell_type": "code",
   "execution_count": 10,
   "metadata": {},
   "outputs": [
    {
     "data": {
      "text/plain": [
       "2"
      ]
     },
     "execution_count": 10,
     "metadata": {},
     "output_type": "execute_result"
    }
   ],
   "source": [
    "str='python'\n",
    "str[-2:]\n",
    "str[0:2]\n",
    "str[-5:-1]\n",
    "str[-1]\n",
    "str[1]\n",
    "a,b=1,1\n",
    "a,b=b,a+b\n",
    "a\n",
    "b\n"
   ]
  },
  {
   "cell_type": "code",
   "execution_count": 10,
   "metadata": {},
   "outputs": [
    {
     "name": "stdout",
     "output_type": "stream",
     "text": [
      "b 2\n",
      "0 Mary\n",
      "1 had\n",
      "2 a\n"
     ]
    }
   ],
   "source": [
    "users={\"a\":1,\"b\":2,\"c\":3}\n",
    "for user,status in users.copy().items():\n",
    "    if user=='b':\n",
    "        print(user,status)\n",
    "\n",
    "\n",
    "a = ['Mary', 'had', 'a', 'little', 'lamb']\n",
    "for i in range(len(a)):\n",
    "    print(i,a[i])\n",
    "    if a[i]=='a':\n",
    "        break\n",
    "else:\n",
    "    print('it a for else子句,执行循环之外')"
   ]
  },
  {
   "cell_type": "code",
   "execution_count": 15,
   "metadata": {},
   "outputs": [
    {
     "name": "stdout",
     "output_type": "stream",
     "text": [
      "3\n"
     ]
    }
   ],
   "source": [
    "i=5\n",
    "i=3\n",
    "def f(arg=i):\n",
    "    print(arg)\n",
    "i=4\n",
    "i=6\n",
    "f()"
   ]
  },
  {
   "cell_type": "code",
   "execution_count": 18,
   "metadata": {},
   "outputs": [
    {
     "name": "stdout",
     "output_type": "stream",
     "text": [
      "[1]\n",
      "[1, 2]\n",
      "[1, 2, 3]\n",
      "[1, 2, 3, 4]\n",
      "[1]\n",
      "[2]\n",
      "[3]\n",
      "[4]\n"
     ]
    }
   ],
   "source": [
    "def f(a,l=[]):\n",
    "    l.append(a)\n",
    "    return l\n",
    "\n",
    "print(f(1))\n",
    "print(f(2))\n",
    "print(f(3))\n",
    "print(f(4))\n",
    "def ff(a,l=None):\n",
    "    if l==None:\n",
    "        l=[]\n",
    "    l.append(a)\n",
    "    return l\n",
    "\n",
    "print(ff(1))\n",
    "print(ff(2))\n",
    "print(ff(3))\n",
    "print(ff(4))"
   ]
  },
  {
   "cell_type": "code",
   "execution_count": 20,
   "metadata": {},
   "outputs": [
    {
     "data": {
      "text/plain": [
       "'name.blue.yellow.sky'"
      ]
     },
     "execution_count": 20,
     "metadata": {},
     "output_type": "execute_result"
    }
   ],
   "source": [
    "def concat(*args,sep='/'):\n",
    "    return sep.join(args)\n",
    "\n",
    "concat('name',\"blue\",'yellow','sky',sep='.')"
   ]
  },
  {
   "cell_type": "code",
   "execution_count": 24,
   "metadata": {},
   "outputs": [
    {
     "data": {
      "text/plain": [
       "[2, 5, 8]"
      ]
     },
     "execution_count": 24,
     "metadata": {},
     "output_type": "execute_result"
    }
   ],
   "source": [
    "args=[2,10,3]\n",
    "# range(*args)\n",
    "# range(*args)\n",
    "list(range(*args))"
   ]
  },
  {
   "cell_type": "code",
   "execution_count": 31,
   "metadata": {},
   "outputs": [
    {
     "name": "stdout",
     "output_type": "stream",
     "text": [
      "  DO nothing ,but document it\n",
      "\n",
      "        can you find me use  mydoc.__doc__\n",
      "yes you got it\n",
      "    \n",
      "    \n"
     ]
    }
   ],
   "source": [
    "def mydoc():\n",
    "    \"\"\"  DO nothing ,but document it\n",
    "\n",
    "        can you find me use  mydoc.__doc__\n",
    "yes you got it\n",
    "    \n",
    "    \"\"\"\n",
    "print(mydoc.__doc__)"
   ]
  },
  {
   "cell_type": "code",
   "execution_count": 37,
   "metadata": {},
   "outputs": [
    {
     "name": "stdout",
     "output_type": "stream",
     "text": [
      "annotations {'this': <class 'str'>, 'm': <class 'int'>, 'eggs': <class 'str'>, 'return': <class 'int'>}\n"
     ]
    },
    {
     "data": {
      "text/plain": [
       "3"
      ]
     },
     "execution_count": 37,
     "metadata": {},
     "output_type": "execute_result"
    }
   ],
   "source": [
    "def f(this:str,m:int,eggs:str='eggs')->int:\n",
    "    print(\"annotations\",f.__annotations__)\n",
    "    return m\n",
    "\n",
    "f('this is',3)"
   ]
  },
  {
   "cell_type": "code",
   "execution_count": 50,
   "metadata": {},
   "outputs": [
    {
     "name": "stdout",
     "output_type": "stream",
     "text": [
      "['jack', 'white', 'jame', 'andrw', 'bird', 'jack', 'zpf']\n",
      "['jack', 'white', 'jame', 'andrw', 'bird', 'jack']\n",
      "['andrw', 'bird', 'jack', 'jack', 'jame', 'white']\n",
      "('make',)\n",
      "('make',)\n",
      "()\n"
     ]
    }
   ],
   "source": [
    "lis=['jack','bird','andrw','jame','white','jack']\n",
    "lis.reverse()\n",
    "\n",
    "lis.append('zpf')\n",
    "\n",
    "lis.count('jack')\n",
    "print(lis)\n",
    "lis.count('jack')\n",
    "lis.index('zpf')\n",
    "lis.index('jack',1,6)\n",
    "lis.pop()\n",
    "# lis.sort()\n",
    "print(lis)\n",
    "lis.sort()\n",
    "print(lis)\n",
    "\n",
    "tup='make',\n",
    "print(tup)\n",
    "tup=('make',)\n",
    "print(tup)\n",
    "tup=()\n",
    "print(tup)\n",
    "#解包，打包\n",
    "a=1,3,'ok'\n",
    "x,y,z=a"
   ]
  }
 ],
 "metadata": {
  "interpreter": {
   "hash": "abef8255030384acf001b99b664dafb1eef7d2851524120c2f5fed0d9d62a94e"
  },
  "kernelspec": {
   "display_name": "Python 3.9.8 64-bit (windows store)",
   "language": "python",
   "name": "python3"
  },
  "language_info": {
   "codemirror_mode": {
    "name": "ipython",
    "version": 3
   },
   "file_extension": ".py",
   "mimetype": "text/x-python",
   "name": "python",
   "nbconvert_exporter": "python",
   "pygments_lexer": "ipython3",
   "version": "3.9.9"
  },
  "orig_nbformat": 4
 },
 "nbformat": 4,
 "nbformat_minor": 2
}
