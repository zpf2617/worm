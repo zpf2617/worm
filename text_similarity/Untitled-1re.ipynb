{
 "cells": [
  {
   "cell_type": "code",
   "execution_count": 110,
   "metadata": {},
   "outputs": [
    {
     "name": "stdout",
     "output_type": "stream",
     "text": [
      "陈淑英\n",
      "姜红\n",
      "邹淑英\n"
     ]
    },
    {
     "data": {
      "text/plain": [
       "(<function __main__.<lambda>(x0, x1)>, [1, 2, 3], [7, 8])"
      ]
     },
     "execution_count": 110,
     "metadata": {},
     "output_type": "execute_result"
    }
   ],
   "source": [
    "from faker import Faker\n",
    "fake=Faker(\"zh_CN\")\n",
    "\n",
    "fake.address()\n",
    "fake.name()\n",
    "fake.province()\n",
    "fake.name_nonbinary()\n",
    "fake.password()\n",
    "fake.date_time()\n",
    "fake.phone_number()\n",
    "\n",
    "for _ in range(3):\n",
    "    print(fake.name())\n",
    "\n",
    "names=[fake.name() for _ in range(10)]\n",
    "\n",
    "phones=[fake.phone_number() for _ in range(10)]\n",
    "\n",
    "{name:phone for name,phone in zip(names,phones)}\n",
    "\n",
    "\n",
    "a,b=[1,2,3],[7,8]\n",
    "list(map (lambda x0,x1:f'{x0}-{x1}',a,b))\n",
    "lambda x0,x1:f'{x0}-{x1}',a,b"
   ]
  },
  {
   "cell_type": "code",
   "execution_count": 120,
   "metadata": {},
   "outputs": [
    {
     "name": "stdout",
     "output_type": "stream",
     "text": [
      "<re.Match object; span=(0, 3), match='www'>\n",
      "None\n",
      "(0, 2)\n"
     ]
    }
   ],
   "source": [
    "import re\n",
    "print(re.match('www','www.runoob.com'))\n",
    "print(re.match('com', 'www.runoob.com')) \n",
    "print(re.match('ww', 'www.runoob.com').span())  # 在起始位置匹配"
   ]
  },
  {
   "cell_type": "code",
   "execution_count": 141,
   "metadata": {},
   "outputs": [
    {
     "name": "stdout",
     "output_type": "stream",
     "text": [
      "matchobj.group(): This is a cute cat\n",
      "matchobj.group(): This is a cute ca\n",
      "matchobj.group(): \n",
      "matchobj.groups(): ('This is a cute ca', '')\n"
     ]
    }
   ],
   "source": [
    "import re\n",
    "\n",
    "line='This is a cute cate.'\n",
    "matchobj=re.match(r'(.*)t(.*?)',line,re.M|re.I)\n",
    "\n",
    "if matchobj:\n",
    "    print('matchobj.group():',matchobj.group())\n",
    "    print('matchobj.group():',matchobj.group(1))\n",
    "    print('matchobj.group():',matchobj.group(2))\n",
    "    print('matchobj.groups():',matchobj.groups())\n",
    "\n",
    "else:\n",
    "    print(\"No match!\")"
   ]
  },
  {
   "cell_type": "code",
   "execution_count": 156,
   "metadata": {},
   "outputs": [
    {
     "name": "stdout",
     "output_type": "stream",
     "text": [
      "2033-323123-1234\n",
      "2033*323123*1234\n"
     ]
    }
   ],
   "source": [
    "import re\n",
    "phone = '2033-323123-1234'\n",
    "matchobj=re.search(r'-',phone,re.M|re.I)\n",
    "matchobj.group()\n",
    "\n",
    "matchobj=re.sub(r'-','*',phone)\n",
    "phone\n",
    "matchobj\n",
    "print(phone)\n",
    "print(matchobj)"
   ]
  },
  {
   "cell_type": "code",
   "execution_count": 69,
   "metadata": {},
   "outputs": [
    {
     "name": "stdout",
     "output_type": "stream",
     "text": [
      "['is', 'ok']\n"
     ]
    }
   ],
   "source": [
    "import re\n",
    "x='this is is ok ok  *ok -ok _ok\\n'\n",
    "#y= re.sub(r'(\\w+)\\s\\1',r'\\1',x)\n",
    "patern=re.compile(r'(\\w+)\\s\\1')\n",
    "patern=re.compile(r'(\\w*)')\n",
    "patern=re.compile(r'(\\w+)\\s\\1')\n",
    "y=patern.findall(x)\n",
    "print(y)\n",
    "m=patern.match(x)\n",
    "#print(m.group(1))"
   ]
  },
  {
   "cell_type": "code",
   "execution_count": 29,
   "metadata": {},
   "outputs": [
    {
     "data": {
      "text/plain": [
       "22"
      ]
     },
     "execution_count": 29,
     "metadata": {},
     "output_type": "execute_result"
    }
   ],
   "source": [
    "class dog:\n",
    "    begin =2000\n",
    "    def __init__(self,name) :\n",
    "        self.name=name\n",
    "        print(name)\n",
    "\n",
    "    @classmethod\n",
    "    def get_age(cla,birthday):\n",
    "        return birthday-cla.begin\n",
    "x=dog.get_age(2022)\n",
    "dog.get_age(2022)\n",
    "#print(x.name)"
   ]
  },
  {
   "cell_type": "code",
   "execution_count": 76,
   "metadata": {},
   "outputs": [
    {
     "name": "stdout",
     "output_type": "stream",
     "text": [
      "修饰器\n",
      "foo\n",
      "testx\n",
      "修饰作用x\n",
      "god1\n",
      "None\n",
      "god is me\n",
      "testx\n",
      "testy\n",
      "over....\n",
      "修饰作用y\n",
      "xba\n",
      "修饰作用x\n",
      "sheep\n",
      "None\n",
      "is a sheep\n"
     ]
    }
   ],
   "source": [
    "\n",
    "def bar(fun):\n",
    "    print('修饰器')\n",
    "    fun()\n",
    "\n",
    "\n",
    "def foo():\n",
    "    print(\"foo\")\n",
    "\n",
    "bar(foo)\n",
    "\n",
    "def xbar(fun):\n",
    "    print(\"testx\")\n",
    "    def xba():\n",
    "        print('修饰作用x')\n",
    "        print(fun.__name__)\n",
    "        print(fun.__doc__)\n",
    "        # def ba1():\n",
    "        #     print('深入一层')\n",
    "        #     fun()\n",
    "        # return ba1\n",
    "        fun()\n",
    "\n",
    "    return xba\n",
    "#覆盖\n",
    "# foo=xbar(foo)\n",
    "# foo()\n",
    "\n",
    "@xbar\n",
    "def god1():\n",
    "    pass\n",
    "    print('god is me') \n",
    "\n",
    "god1()\n",
    "\n",
    "def ybar(fun):\n",
    "    print(\"testy\")\n",
    "    def yba():\n",
    "        print('修饰作用y')\n",
    "        print(fun.__name__)\n",
    "        fun()\n",
    "\n",
    "    return yba\n",
    "\n",
    "@ybar\n",
    "@xbar\n",
    "def sheep():\n",
    "    print('is a sheep')\n",
    "print('over....')\n",
    "sheep()\n"
   ]
  },
  {
   "cell_type": "code",
   "execution_count": null,
   "metadata": {},
   "outputs": [],
   "source": []
  },
  {
   "cell_type": "code",
   "execution_count": null,
   "metadata": {},
   "outputs": [],
   "source": []
  },
  {
   "cell_type": "code",
   "execution_count": null,
   "metadata": {},
   "outputs": [],
   "source": []
  }
 ],
 "metadata": {
  "interpreter": {
   "hash": "abef8255030384acf001b99b664dafb1eef7d2851524120c2f5fed0d9d62a94e"
  },
  "kernelspec": {
   "display_name": "Python 3.9.7 64-bit (windows store)",
   "language": "python",
   "name": "python3"
  },
  "language_info": {
   "codemirror_mode": {
    "name": "ipython",
    "version": 3
   },
   "file_extension": ".py",
   "mimetype": "text/x-python",
   "name": "python",
   "nbconvert_exporter": "python",
   "pygments_lexer": "ipython3",
   "version": "3.9.8"
  },
  "orig_nbformat": 4
 },
 "nbformat": 4,
 "nbformat_minor": 2
}
