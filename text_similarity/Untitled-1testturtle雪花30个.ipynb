{
 "cells": [
  {
   "cell_type": "code",
   "execution_count": 1,
   "metadata": {},
   "outputs": [],
   "source": [
    "import turtle as t\n",
    "import random\n",
    "\n",
    "def ground(line_count):\n",
    "    t.pensize(random.randint(5,10))\n",
    "    x=random.randint(-400,350)\n",
    "    y=random.randint(-280,-1)\n",
    "    r,g,b=[-y/280 for _ in range(3)]\n",
    "    t.pencolor(r,g,b)\n",
    "    t.penup()\n",
    "    t.goto(x,y)\n",
    "    t.pendown()\n",
    "    t.forward(random.randint(40,100))\n",
    "\n",
    "def snowflake(snow_count):\n",
    "    t.pensize(2)\n",
    "    for i in range(snow_count):\n",
    "        r,g,b=[random.random() for _ in range(3)]\n",
    "        t.pencolor(r,g,b)\n",
    "        t.penup()\n",
    "        t.goto(random.randint(-350,350),random.randint(-350,350))\n",
    "        t.pendown()\n",
    "        dens=random.randint(8,12)\n",
    "        snow_size=random.randint(10,14)\n",
    "        for _ in range(dens):\n",
    "            t.forward(snow_size)\n",
    "            t.backward(snow_size)\n",
    "            t.right(360/dens)\n",
    "\n",
    "\n",
    "\n",
    "\n",
    "if __name__==\"__main__\":\n",
    "    t.hideturtle()\n",
    "    t.speed(-1)\n",
    "    t.setup(800,600,0,0)\n",
    "    t.bgcolor('black')\n",
    "\n",
    "    ground(30)\n",
    "    snowflake(30)"
   ]
  },
  {
   "cell_type": "code",
   "execution_count": null,
   "metadata": {},
   "outputs": [],
   "source": []
  }
 ],
 "metadata": {
  "interpreter": {
   "hash": "abef8255030384acf001b99b664dafb1eef7d2851524120c2f5fed0d9d62a94e"
  },
  "kernelspec": {
   "display_name": "Python 3.9.8 64-bit (windows store)",
   "language": "python",
   "name": "python3"
  },
  "language_info": {
   "codemirror_mode": {
    "name": "ipython",
    "version": 3
   },
   "file_extension": ".py",
   "mimetype": "text/x-python",
   "name": "python",
   "nbconvert_exporter": "python",
   "pygments_lexer": "ipython3",
   "version": "3.9.8"
  },
  "orig_nbformat": 4
 },
 "nbformat": 4,
 "nbformat_minor": 2
}
