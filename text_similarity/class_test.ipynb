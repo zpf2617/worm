{
 "cells": [
  {
   "cell_type": "code",
   "execution_count": 9,
   "metadata": {},
   "outputs": [
    {
     "name": "stdout",
     "output_type": "stream",
     "text": [
      "A.running...\n",
      "a1.running...\n"
     ]
    }
   ],
   "source": [
    "class A:\n",
    "    def run(self):\n",
    "        cn = type(self).__name__\n",
    "        print(f'{cn}.running...')\n",
    "\n",
    "class a1(A):\n",
    "    pass\n",
    "\n",
    "\n",
    "A().run()\n",
    "\n",
    "\n",
    "a1().run()\n",
    "\n",
    "\n",
    "\n",
    "\n"
   ]
  },
  {
   "cell_type": "code",
   "execution_count": 17,
   "metadata": {},
   "outputs": [
    {
     "name": "stdout",
     "output_type": "stream",
     "text": [
      "正在获取出生年月\n"
     ]
    },
    {
     "data": {
      "text/plain": [
       "2000"
      ]
     },
     "execution_count": 17,
     "metadata": {},
     "output_type": "execute_result"
    }
   ],
   "source": [
    "class dog:\n",
    "    def __init__(self,name,id,birthday):\n",
    "        self.name=name\n",
    "        self.id=id\n",
    "        if birthday <=1900:\n",
    "            raise ValueError('出生日期早于1900年')\n",
    "        self._birthday=birthday\n",
    "    \n",
    "    @property\n",
    "    def birthday(self):\n",
    "        print('正在获取出生年月')\n",
    "        return self._birthday\n",
    "\n",
    "    @birthday.setter\n",
    "    def birthday(self,value):\n",
    "        if value <=1900:\n",
    "            raise ValueError('出生年月早在1900年之前')\n",
    "        self._birthday=value\n",
    "\n",
    "\n",
    "hsq=dog('哈士奇',2,2000)\n",
    "hsq.birthday"
   ]
  },
  {
   "cell_type": "code",
   "execution_count": null,
   "metadata": {},
   "outputs": [],
   "source": []
  }
 ],
 "metadata": {
  "interpreter": {
   "hash": "abef8255030384acf001b99b664dafb1eef7d2851524120c2f5fed0d9d62a94e"
  },
  "kernelspec": {
   "display_name": "Python 3.9.8 64-bit (windows store)",
   "language": "python",
   "name": "python3"
  },
  "language_info": {
   "codemirror_mode": {
    "name": "ipython",
    "version": 3
   },
   "file_extension": ".py",
   "mimetype": "text/x-python",
   "name": "python",
   "nbconvert_exporter": "python",
   "pygments_lexer": "ipython3",
   "version": "3.9.8"
  },
  "orig_nbformat": 4
 },
 "nbformat": 4,
 "nbformat_minor": 2
}
