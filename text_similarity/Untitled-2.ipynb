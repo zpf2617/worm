{
 "cells": [
  {
   "cell_type": "code",
   "execution_count": 2,
   "metadata": {},
   "outputs": [
    {
     "name": "stdout",
     "output_type": "stream",
     "text": [
      "[['这', '是', '个', '好', '地方', '，', '也许', '有', '一天', '，', '大', '数据', '发送'], ['这里', '不是', '个', '好', '地方', '不是', '不', '可能', '可能', '可能', '可能', '地方', '地方', '地方', '地方', '地方', '地方']]\n",
      "defaultdict(<class 'int'>, {'这': 1, '是': 1, '个': 2, '好': 2, '地方': 8, '，': 2, '也许': 1, '有': 1, '一天': 1, '大': 1, '数据': 1, '发送': 1, '这里': 1, '不是': 2, '不': 1, '可能': 4})\n",
      "[['这', '是', '个', '好', '，', '也许', '有', '一天', '，', '大', '数据', '发送'], ['这里', '不是', '个', '好', '不是', '不']]\n",
      "Dictionary(14 unique tokens: ['一天', '个', '也许', '发送', '大']...)\n",
      "这 是 个 好 地方 发送 \n",
      " \n",
      "<gensim.similarities.docsim.SparseMatrixSimilarity object at 0x000002557C3FE3A0>\n",
      "[0.49999997 0.        ]\n"
     ]
    }
   ],
   "source": [
    "import jieba\n",
    "from gensim import corpora, models, similarities\n",
    "from collections import defaultdict\n",
    "\n",
    "\n",
    "# 定义文件目录\n",
    "work_dir = \"C:/Users/zero/.ipython/text_similarity\"\n",
    "f1 = work_dir + \"/1.txt\"\n",
    "f2 = work_dir + \"/2.txt\"\n",
    "# 读取文件内容\n",
    "c1 = open(f1, encoding='utf-8').read()\n",
    "c2 = open(f2, encoding='utf-8').read()\n",
    "# jieba 进行分词\n",
    "data1 = jieba.cut(c1)\n",
    "data2 = jieba.cut(c2)\n",
    "\n",
    "\n",
    "data11 = \"\"\n",
    "# 获取分词内容\n",
    "for i in data1:\n",
    "    data11 += i + \" \"\n",
    "data21 = \"\"\n",
    "# 获取分词内容\n",
    "for i in data2:\n",
    "    data21 += i + \" \"\n",
    "\n",
    "doc1 = [data11, data21]\n",
    "# print(doc1)\n",
    "\n",
    "#字符串doc1切片\n",
    "t1 = [[word for word in doc.split()]\n",
    "      for doc in doc1]\n",
    "# print(t1)\n",
    "\n",
    "\n",
    "\n",
    "freq = defaultdict(int)\n",
    "for i in t1:\n",
    "    for j in i:\n",
    "        freq[j] += 1\n",
    "# print(freq)\n",
    "print(t1)\n",
    "print(freq)\n",
    "# 限制词频,切除大于3的词语\n",
    "t2 = [[token for token in k if freq[token] <= 3]\n",
    "      for k in t1]\n",
    "print(t2)\n",
    "\n",
    "\n",
    "\n",
    "# corpora语料库建立字典\n",
    "dic1 = corpora.Dictionary(t2)\n",
    "dic1.save(work_dir + \"/yuliaoku.txt\")\n",
    "print(dic1)\n",
    "\n",
    "# 对比文件\n",
    "f3 = work_dir + \"/3.txt\"\n",
    "c3 = open(f3, encoding='utf-8').read()\n",
    "# jieba 进行分词\n",
    "data3 = jieba.cut(c3)\n",
    "data31 = \"\"\n",
    "for i in data3:\n",
    "    data31 += i + \" \"\n",
    "new_doc = data31\n",
    "print(new_doc)\n",
    "\n",
    "# doc2bow把文件变成一个稀疏向量\n",
    "new_vec = dic1.doc2bow(new_doc.split())\n",
    "# 对字典进行doc2bow处理，得到新语料库\n",
    "new_corpor = [dic1.doc2bow(t3) for t3 in t2]\n",
    "tfidf = models.TfidfModel(new_corpor)\n",
    "\n",
    "# 特征数,向量长度\n",
    "featurenum = len(dic1.token2id.keys())\n",
    "\n",
    "# similarities 相似之处\n",
    "# SparseMatrixSimilarity 稀疏矩阵相似度\n",
    "idx = similarities.SparseMatrixSimilarity(tfidf[new_corpor], num_features=featurenum)\n",
    "sims = idx[tfidf[new_vec]]\n",
    "print(idx)\n",
    "print(sims)"
   ]
  },
  {
   "cell_type": "code",
   "execution_count": 1,
   "metadata": {},
   "outputs": [
    {
     "name": "stdout",
     "output_type": "stream",
     "text": [
      "2 1\n"
     ]
    }
   ],
   "source": [
    "a,b=1,2\n",
    "a,b=b,a\n",
    "print(a,b)"
   ]
  },
  {
   "cell_type": "code",
   "execution_count": 9,
   "metadata": {},
   "outputs": [
    {
     "name": "stdout",
     "output_type": "stream",
     "text": [
      "4是一个偶数\n"
     ]
    }
   ],
   "source": [
    "num=int(input('请输入一个整数'))\n",
    "if num % 2 == 0:\n",
    "    print('{00}是一个偶数'.format(num))\n",
    "else:\n",
    "    print(f'{num}是一个奇数')"
   ]
  },
  {
   "cell_type": "code",
   "execution_count": 15,
   "metadata": {},
   "outputs": [
    {
     "data": {
      "text/plain": [
       "True"
      ]
     },
     "execution_count": 15,
     "metadata": {},
     "output_type": "execute_result"
    }
   ],
   "source": [
    "def is_number(s):\n",
    "    try:\n",
    "        float(s)\n",
    "        return True\n",
    "    except ValueError:\n",
    "        return False\n",
    "\n",
    "\n",
    "is_number('2233')"
   ]
  }
 ],
 "metadata": {
  "interpreter": {
   "hash": "abef8255030384acf001b99b664dafb1eef7d2851524120c2f5fed0d9d62a94e"
  },
  "kernelspec": {
   "display_name": "Python 3.9.7 64-bit (windows store)",
   "language": "python",
   "name": "python3"
  },
  "language_info": {
   "codemirror_mode": {
    "name": "ipython",
    "version": 3
   },
   "file_extension": ".py",
   "mimetype": "text/x-python",
   "name": "python",
   "nbconvert_exporter": "python",
   "pygments_lexer": "ipython3",
   "version": "3.9.8"
  },
  "orig_nbformat": 4
 },
 "nbformat": 4,
 "nbformat_minor": 2
}
