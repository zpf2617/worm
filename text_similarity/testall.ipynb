{
 "cells": [
  {
   "cell_type": "code",
   "execution_count": 1,
   "metadata": {},
   "outputs": [
    {
     "data": {
      "text/plain": [
       "['In',\n",
       " 'Out',\n",
       " '_',\n",
       " '__',\n",
       " '___',\n",
       " '__builtin__',\n",
       " '__builtins__',\n",
       " '__doc__',\n",
       " '__loader__',\n",
       " '__name__',\n",
       " '__package__',\n",
       " '__spec__',\n",
       " '_dh',\n",
       " '_i',\n",
       " '_i1',\n",
       " '_ih',\n",
       " '_ii',\n",
       " '_iii',\n",
       " '_oh',\n",
       " 'exit',\n",
       " 'get_ipython',\n",
       " 'quit',\n",
       " 'sys']"
      ]
     },
     "execution_count": 1,
     "metadata": {},
     "output_type": "execute_result"
    }
   ],
   "source": [
    "import sys\n",
    "dir()"
   ]
  },
  {
   "cell_type": "code",
   "execution_count": 52,
   "metadata": {},
   "outputs": [
    {
     "name": "stdout",
     "output_type": "stream",
     "text": [
      "Donald Knox MD    ==>    001-179-335-8472x19705\n",
      "Cindy Stephens    ==>    448-424-7971x68190\n",
      "Brittney Casey    ==>    166.616.7901x264\n",
      "Kimberly Smith    ==>    (305)668-6951x0794\n",
      "Robert Lee        ==>    031-912-8397   \n",
      "David Hawkins     ==>    958.466.3013   \n",
      "Caroline Reid     ==>    (618)145-1192x310\n",
      "Robin Moore       ==>    059-538-4625   \n",
      "Lisa White        ==>    (572)009-4770x202\n",
      "Oscar Clayton     ==>    007-419-9614x94917\n",
      "            12341252  12341252"
     ]
    }
   ],
   "source": [
    "from faker import Faker\n",
    "faker=Faker()\n",
    "faker.name()\n",
    "faker.phone_number()\n",
    "faker.job()\n",
    "for i in range(10):\n",
    "    print(f'{faker.name():18}==>    {faker.phone_number():15}')\n",
    "\n",
    "\n",
    "m=12341252\n",
    "print(f'{m:20d}',end='')\n",
    "print(f'{m:10}',end='')"
   ]
  },
  {
   "cell_type": "code",
   "execution_count": 54,
   "metadata": {},
   "outputs": [
    {
     "name": "stdout",
     "output_type": "stream",
     "text": [
      "robin is my take love write\n"
     ]
    }
   ],
   "source": [
    "print('{1} is my {0} love {2}'.format('take','robin','write'))"
   ]
  },
  {
   "cell_type": "code",
   "execution_count": 7,
   "metadata": {},
   "outputs": [
    {
     "name": "stdout",
     "output_type": "stream",
     "text": [
      "  1      1    1\n",
      "  2      4    8\n",
      "  3      9   27\n",
      "  4     16   64\n",
      "  5     25  125\n",
      "  6     36  216\n",
      "  7     49  343\n",
      "  8     64  512\n",
      "  9     81  729\n",
      " 10    100 1000\n",
      " 11    121 1331\n",
      " 12    144 1728\n",
      " 13    169 2197\n",
      " 14    196 2744\n"
     ]
    }
   ],
   "source": [
    "for s in range(1,15):\n",
    "    print('{0:3d}{1:7d}{2:5d}'.format(s,s*s,s*s*s))"
   ]
  },
  {
   "cell_type": "code",
   "execution_count": 105,
   "metadata": {},
   "outputs": [
    {
     "name": "stdout",
     "output_type": "stream",
     "text": [
      "[1, 'name', [1, 3, 2]]\n"
     ]
    }
   ],
   "source": [
    "import json\n",
    "x=[1,'name',(1,3,2)]\n",
    "# json.dumps(x)\n",
    "str1='It is my name'\n",
    "f=open('work_file_4','a')\n",
    "\n",
    "json.dump(x,f)\n",
    "# json.dump(str1,f)\n",
    "# f.write('take it again')\n",
    "f.close()\n",
    "f.closed\n",
    "\n",
    "f=open('work_file_4','r')\n",
    "x=json.load(f)\n",
    "\n",
    "f.close()\n",
    "f.closed\n",
    "print(x)"
   ]
  },
  {
   "cell_type": "code",
   "execution_count": 76,
   "metadata": {},
   "outputs": [],
   "source": []
  },
  {
   "cell_type": "code",
   "execution_count": 11,
   "metadata": {},
   "outputs": [
    {
     "name": "stdout",
     "output_type": "stream",
     "text": [
      "5\n",
      "13\n"
     ]
    }
   ],
   "source": [
    "m=3\n",
    "x=lambda a,b:a+b\n",
    "s=x(2,3)\n",
    "print(s)\n",
    "s=x(7,6)\n",
    "print(s)"
   ]
  },
  {
   "cell_type": "code",
   "execution_count": 17,
   "metadata": {},
   "outputs": [
    {
     "ename": "SyntaxError",
     "evalue": "invalid syntax (Temp/ipykernel_14428/3221068993.py, line 10)",
     "output_type": "error",
     "traceback": [
      "\u001b[1;36m  File \u001b[1;32m\"C:\\Users\\zero\\AppData\\Local\\Temp/ipykernel_14428/3221068993.py\"\u001b[1;36m, line \u001b[1;32m10\u001b[0m\n\u001b[1;33m    else:\u001b[0m\n\u001b[1;37m    ^\u001b[0m\n\u001b[1;31mSyntaxError\u001b[0m\u001b[1;31m:\u001b[0m invalid syntax\n"
     ]
    }
   ],
   "source": [
    "try:\n",
    "    raise NameError('ok')\n",
    "\n",
    "except:\n",
    "    print(\"my fault!\")\n",
    "\n",
    "finally:\n",
    "    print(\"finally\")\n",
    "    \n",
    "else:\n",
    "\n",
    "    print(\"else\")"
   ]
  },
  {
   "cell_type": "code",
   "execution_count": 18,
   "metadata": {},
   "outputs": [
    {
     "name": "stdout",
     "output_type": "stream",
     "text": [
      "cannot open --ip=127.0.0.1\n",
      "cannot open --stdin=9003\n",
      "cannot open --control=9001\n",
      "cannot open --hb=9000\n",
      "cannot open --Session.signature_scheme=\"hmac-sha256\"\n",
      "cannot open --Session.key=b\"97ca8339-d614-439d-8a0d-dd490ba3dce3\"\n",
      "cannot open --shell=9002\n",
      "cannot open --transport=\"tcp\"\n",
      "cannot open --iopub=9004\n",
      "cannot open --f=C:\\Users\\zero\\AppData\\Local\\Temp\\tmp-15268VASUVsoM9Ot7.json\n"
     ]
    }
   ],
   "source": [
    "for arg in sys.argv[1:]:\n",
    "    try:\n",
    "        f = open(arg, 'r')\n",
    "    except OSError:\n",
    "        print('cannot open', arg)\n",
    "    else:\n",
    "        print(arg, 'has', len(f.readlines()), 'lines')\n",
    "        f.close()"
   ]
  },
  {
   "cell_type": "code",
   "execution_count": 7,
   "metadata": {},
   "outputs": [
    {
     "name": "stdout",
     "output_type": "stream",
     "text": [
      "1\n",
      "2\n",
      "3\n",
      "5\n"
     ]
    },
    {
     "ename": "StopIteration",
     "evalue": "",
     "output_type": "error",
     "traceback": [
      "\u001b[1;31m---------------------------------------------------------------------------\u001b[0m",
      "\u001b[1;31mStopIteration\u001b[0m                             Traceback (most recent call last)",
      "\u001b[1;32m~\\AppData\\Local\\Temp/ipykernel_8488/3218239264.py\u001b[0m in \u001b[0;36m<module>\u001b[1;34m\u001b[0m\n\u001b[0;32m     15\u001b[0m \u001b[0mnext\u001b[0m\u001b[1;33m(\u001b[0m\u001b[0mit\u001b[0m\u001b[1;33m)\u001b[0m\u001b[1;33m\u001b[0m\u001b[1;33m\u001b[0m\u001b[0m\n\u001b[0;32m     16\u001b[0m \u001b[0mnext\u001b[0m\u001b[1;33m(\u001b[0m\u001b[0mit\u001b[0m\u001b[1;33m)\u001b[0m\u001b[1;33m\u001b[0m\u001b[1;33m\u001b[0m\u001b[0m\n\u001b[1;32m---> 17\u001b[1;33m \u001b[0mnext\u001b[0m\u001b[1;33m(\u001b[0m\u001b[0mit\u001b[0m\u001b[1;33m)\u001b[0m\u001b[1;33m\u001b[0m\u001b[1;33m\u001b[0m\u001b[0m\n\u001b[0m\u001b[0;32m     18\u001b[0m \u001b[0mnext\u001b[0m\u001b[1;33m(\u001b[0m\u001b[0mit\u001b[0m\u001b[1;33m)\u001b[0m\u001b[1;33m\u001b[0m\u001b[1;33m\u001b[0m\u001b[0m\n",
      "\u001b[1;31mStopIteration\u001b[0m: "
     ]
    }
   ],
   "source": [
    "for char in \"1235\":\n",
    "    print(char)\n",
    "\n",
    "s='this is me'\n",
    "it=iter(s)\n",
    "it\n",
    "next(it)\n",
    "next(it)\n",
    "next(it)\n",
    "next(it)\n",
    "next(it)\n",
    "next(it)\n",
    "next(it)\n",
    "next(it)\n",
    "next(it)\n",
    "next(it)\n",
    "next(it)\n",
    "next(it)"
   ]
  },
  {
   "cell_type": "code",
   "execution_count": 11,
   "metadata": {},
   "outputs": [
    {
     "data": {
      "text/plain": [
       "'g'"
      ]
     },
     "execution_count": 11,
     "metadata": {},
     "output_type": "execute_result"
    }
   ],
   "source": [
    "class Reverse:\n",
    "    def __init__(self,data):\n",
    "        self.data=data\n",
    "        self.index=len(data)\n",
    "    \n",
    "    def __iter__(self):\n",
    "        return self\n",
    "\n",
    "    def __next__(self):\n",
    "        if self.index==0:\n",
    "            raise StopIteration\n",
    "        self.index=self.index-1\n",
    "        return self.data[self.index]\n",
    "\n",
    "rev=Reverse(\"change\")\n",
    "iter(rev)\n",
    "next(rev)\n",
    "next(rev)"
   ]
  },
  {
   "cell_type": "code",
   "execution_count": 20,
   "metadata": {},
   "outputs": [
    {
     "name": "stdout",
     "output_type": "stream",
     "text": [
      "1\n",
      "2\n",
      "3\n",
      "4\n"
     ]
    }
   ],
   "source": [
    "def re(data):\n",
    "    for i in range(len(data)):\n",
    "        yield data[i]\n",
    "\n",
    "for char in re('1234'):\n",
    "    print(char)"
   ]
  },
  {
   "cell_type": "code",
   "execution_count": 28,
   "metadata": {},
   "outputs": [],
   "source": [
    "sum(i*i for i in range(4))\n",
    "s=(i*i for i in range(4))\n"
   ]
  },
  {
   "cell_type": "code",
   "execution_count": 30,
   "metadata": {},
   "outputs": [
    {
     "name": "stdout",
     "output_type": "stream",
     "text": [
      "23\n"
     ]
    }
   ],
   "source": [
    "class Employee:\n",
    "    pass\n",
    "\n",
    "j=Employee()\n",
    "j.name='name'\n",
    "j.age=23\n",
    "print(j.age)"
   ]
  },
  {
   "cell_type": "code",
   "execution_count": 27,
   "metadata": {},
   "outputs": [
    {
     "data": {
      "text/plain": [
       "'hello Word'"
      ]
     },
     "execution_count": 27,
     "metadata": {},
     "output_type": "execute_result"
    }
   ],
   "source": [
    "class MyClass:\n",
    "    \"\"\"\"example this is \"\"\"\n",
    "    i=1234\n",
    "    def f(self):\n",
    "        return \"hello Word\"\n",
    "    \n",
    "    def __init__(self,i):\n",
    "        self.data=[]\n",
    "        self.i=i\n",
    "\n",
    "\n",
    "x=MyClass(3)\n",
    "x.i\n",
    "x.f()\n",
    "x.__doc__\n",
    "x.i\n",
    "xf=x.f\n",
    "xf()"
   ]
  },
  {
   "cell_type": "code",
   "execution_count": 29,
   "metadata": {},
   "outputs": [
    {
     "name": "stdout",
     "output_type": "stream",
     "text": [
      "['change', 'mice', 'mice']\n"
     ]
    }
   ],
   "source": [
    "class Bag:\n",
    "    def __init__(self):\n",
    "        self.data=[]\n",
    "    \n",
    "    def add(self,x):\n",
    "        self.data.append(x)\n",
    "\n",
    "    def addtwice(self,x):\n",
    "        self.add(x)\n",
    "        self.add(x)\n",
    "\n",
    "d=Bag()\n",
    "d.add('change')\n",
    "d.addtwice(\"mice\")\n",
    "print(d.data)"
   ]
  },
  {
   "cell_type": "code",
   "execution_count": 13,
   "metadata": {},
   "outputs": [
    {
     "name": "stdout",
     "output_type": "stream",
     "text": [
      "0.1\n"
     ]
    },
    {
     "data": {
      "text/plain": [
       "'3.1415926535897931159979634685441851615905761718750000000000000000000000000000000000000000000000000000'"
      ]
     },
     "execution_count": 13,
     "metadata": {},
     "output_type": "execute_result"
    }
   ],
   "source": [
    "import math\n",
    "print(0.1)\n",
    "repr(math.pi)\n",
    "format(math.pi,'.100f')"
   ]
  },
  {
   "cell_type": "code",
   "execution_count": 2,
   "metadata": {},
   "outputs": [],
   "source": [
    "import re\n",
    "import tkinter\n",
    "\n"
   ]
  },
  {
   "cell_type": "code",
   "execution_count": 7,
   "metadata": {},
   "outputs": [
    {
     "ename": "ModuleNotFoundError",
     "evalue": "No module named 'docx'",
     "output_type": "error",
     "traceback": [
      "\u001b[1;31m---------------------------------------------------------------------------\u001b[0m",
      "\u001b[1;31mModuleNotFoundError\u001b[0m                       Traceback (most recent call last)",
      "\u001b[1;32m~\\AppData\\Local\\Temp/ipykernel_948/1962453426.py\u001b[0m in \u001b[0;36m<module>\u001b[1;34m\u001b[0m\n\u001b[0;32m      1\u001b[0m \u001b[1;32mimport\u001b[0m \u001b[0mre\u001b[0m\u001b[1;33m\u001b[0m\u001b[1;33m\u001b[0m\u001b[0m\n\u001b[1;32m----> 2\u001b[1;33m \u001b[1;32mimport\u001b[0m \u001b[0mdocx\u001b[0m\u001b[1;33m\u001b[0m\u001b[1;33m\u001b[0m\u001b[0m\n\u001b[0m\u001b[0;32m      3\u001b[0m \u001b[1;31m# 零宽正向后行断言\u001b[0m\u001b[1;33m\u001b[0m\u001b[1;33m\u001b[0m\u001b[0m\n\u001b[0;32m      4\u001b[0m \u001b[0mm\u001b[0m\u001b[1;33m=\u001b[0m\u001b[0mre\u001b[0m\u001b[1;33m.\u001b[0m\u001b[0mfindall\u001b[0m\u001b[1;33m(\u001b[0m\u001b[1;34mr'(?<=-)\\w+'\u001b[0m\u001b[1;33m,\u001b[0m\u001b[1;34m'span-egg-apple'\u001b[0m\u001b[1;33m)\u001b[0m\u001b[1;33m\u001b[0m\u001b[1;33m\u001b[0m\u001b[0m\n\u001b[0;32m      5\u001b[0m \u001b[1;31m# 零宽正向先行断言\u001b[0m\u001b[1;33m\u001b[0m\u001b[1;33m\u001b[0m\u001b[0m\n",
      "\u001b[1;31mModuleNotFoundError\u001b[0m: No module named 'docx'"
     ]
    }
   ],
   "source": [
    "import re\n",
    "import docx\n",
    "# 零宽正向后行断言\n",
    "m=re.findall(r'(?<=-)\\w+','span-egg-apple')\n",
    "# 零宽正向先行断言\n",
    "s=re.findall(r'\\w*(?=-)','span-egg-apple')\n",
    "with open('C:\\《国家电网公司变电五项通用制度》考试试卷变电检测类（B卷）.doc') as f:\n",
    "    read_data=f.read()\n",
    "\n",
    "f.close()"
   ]
  },
  {
   "cell_type": "code",
   "execution_count": 16,
   "metadata": {},
   "outputs": [],
   "source": [
    "import re\n",
    "# import docx\n",
    "from docx import Document\n",
    "\n",
    "doc1=Document('C:\\《国家电网公司变电五项通用制度》考试试卷变电检测类（B卷）.doc')\n"
   ]
  }
 ],
 "metadata": {
  "interpreter": {
   "hash": "abef8255030384acf001b99b664dafb1eef7d2851524120c2f5fed0d9d62a94e"
  },
  "kernelspec": {
   "display_name": "Python 3.9.9 64-bit (windows store)",
   "language": "python",
   "name": "python3"
  },
  "language_info": {
   "codemirror_mode": {
    "name": "ipython",
    "version": 3
   },
   "file_extension": ".py",
   "mimetype": "text/x-python",
   "name": "python",
   "nbconvert_exporter": "python",
   "pygments_lexer": "ipython3",
   "version": "3.9.9"
  },
  "orig_nbformat": 4
 },
 "nbformat": 4,
 "nbformat_minor": 2
}
